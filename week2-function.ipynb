{
 "cells": [
  {
   "cell_type": "markdown",
   "metadata": {},
   "source": [
    "My name is Amrita Pudasaini. In the week 2 of Python Programming with Data, we studied about functions, parameters, arguments, loop, and return statement. We also discovered how functions are created and called through parameters and Arguments when performing certain tasks. Loops helped us to move through lists and ranges; for and while helped us in repetitive movements. We also talked about return statements to retrieve values from functions and lambda functions for single line operations. Also, we did drilling in using list comprehensions for performing quick list operations and in handling optional arguments through *args and **kwargs. "
   ]
  },
  {
   "cell_type": "markdown",
   "metadata": {},
   "source": [
    "# For Loop\n",
    "Iterate over list, range (enumerator)"
   ]
  },
  {
   "cell_type": "code",
   "execution_count": 1,
   "metadata": {},
   "outputs": [
    {
     "name": "stdout",
     "output_type": "stream",
     "text": [
      "1\n",
      "2\n",
      "3\n",
      "4\n",
      "5\n"
     ]
    }
   ],
   "source": [
    "numbers = [1,2,3,4,5]  # list of int\n",
    "\n",
    "#iterate over list\n",
    "for num in numbers:\n",
    "    print(num)"
   ]
  },
  {
   "cell_type": "code",
   "execution_count": 2,
   "metadata": {},
   "outputs": [
    {
     "name": "stdout",
     "output_type": "stream",
     "text": [
      "2\n",
      "4\n",
      "100\n",
      "[2, 4, 100]\n"
     ]
    }
   ],
   "source": [
    "#create new list of even numbers from the given list\n",
    "\n",
    "numbers = [1,2,3,4,5,3,11,100]  # list of int\n",
    "even_list = []\n",
    "\n",
    "#iterate over list\n",
    "for num in numbers:\n",
    "    if num%2==0:\n",
    "        print(num)\n",
    "        even_list.append(num)\n",
    "print(even_list)"
   ]
  },
  {
   "cell_type": "code",
   "execution_count": 5,
   "metadata": {},
   "outputs": [
    {
     "name": "stdout",
     "output_type": "stream",
     "text": [
      "[1, 5, 4, 3, 11, 15, 100]\n"
     ]
    }
   ],
   "source": [
    "# create new list of even numbers from the given list\n",
    "\n",
    "numbers = [1,5,5,4,5,3,11,11,15,100]\n",
    "unique_numbers = []\n",
    "for num in numbers:\n",
    "   if num not in unique_numbers:\n",
    "      unique_numbers.append(num)\n",
    "\n",
    "print(unique_numbers)"
   ]
  },
  {
   "cell_type": "code",
   "execution_count": 3,
   "metadata": {},
   "outputs": [
    {
     "name": "stdout",
     "output_type": "stream",
     "text": [
      "[1, 2, 3, 4, 5, 11, 100]\n"
     ]
    }
   ],
   "source": [
    "#create new list by removing duplicate items from given list\n",
    "numbers = [1,1,2,3,4,5,3,11,100] #list of int\n",
    "\n",
    "new_list = []\n",
    "for num in numbers:\n",
    "    if num not in new_list:\n",
    "        new_list.append(num)\n",
    "print(new_list)"
   ]
  },
  {
   "cell_type": "markdown",
   "metadata": {},
   "source": [
    "# Range\n",
    "range(start,stop,step)"
   ]
  },
  {
   "cell_type": "code",
   "execution_count": 23,
   "metadata": {},
   "outputs": [
    {
     "name": "stdout",
     "output_type": "stream",
     "text": [
      "1\n",
      "2\n",
      "3\n",
      "4\n",
      "5\n",
      "6\n",
      "7\n",
      "8\n",
      "9\n"
     ]
    }
   ],
   "source": [
    "range_of_100 = range(1,10)\n",
    "\n",
    "sum = 0\n",
    "for i in range(1,10):\n",
    "    print(i)\n",
    "    sum+=1"
   ]
  },
  {
   "cell_type": "markdown",
   "metadata": {},
   "source": [
    "# Inline for loop"
   ]
  },
  {
   "cell_type": "code",
   "execution_count": 34,
   "metadata": {},
   "outputs": [
    {
     "name": "stdout",
     "output_type": "stream",
     "text": [
      "[2, 6, 88]\n",
      "[1, 200, 3, 5, 600, 8800, 19]\n"
     ]
    }
   ],
   "source": [
    "numbers = [1,2,3,5,6,88,19]\n",
    "\n",
    "list_of_even_numbers = [num for num in numbers if num %2==0 ]\n",
    "print(list_of_even_numbers)\n",
    "\n",
    "\n",
    "transformed_list = [(num *100 if num%2==0 else num) for num in numbers ]\n",
    "print(transformed_list)"
   ]
  },
  {
   "cell_type": "markdown",
   "metadata": {},
   "source": [
    "# Function\n",
    "- In python, function are reusable blocks of code that perform a specific task.\n"
   ]
  },
  {
   "cell_type": "code",
   "execution_count": 44,
   "metadata": {},
   "outputs": [
    {
     "name": "stdout",
     "output_type": "stream",
     "text": [
      "55\n",
      "450\n"
     ]
    }
   ],
   "source": [
    "def add(x,y):\n",
    "    sum = x+y\n",
    "    return sum\n",
    "\n",
    "sum_of_two_numbers =add(x=10, y=45)\n",
    "print(sum_of_two_numbers)\n",
    "\n",
    "\n",
    "def multiply(x,y):\n",
    "    multiply = x*y\n",
    "    return multiply\n",
    "\n",
    "multiplication_of_two_numbers =multiply(x=10, y=45)\n",
    "print(multiplication_of_two_numbers)"
   ]
  },
  {
   "cell_type": "markdown",
   "metadata": {},
   "source": [
    "# Default Arguments"
   ]
  },
  {
   "cell_type": "code",
   "execution_count": 1,
   "metadata": {},
   "outputs": [
    {
     "name": "stdout",
     "output_type": "stream",
     "text": [
      "Hello, Hari!\n",
      "8\n"
     ]
    }
   ],
   "source": [
    "def greet (name=\"World\"):\n",
    "    print(f\"Hello, {name}!\")\n",
    "\n",
    "greet(\"Hari\")\n",
    "\n",
    "def sum (a=0, b=0):\n",
    "    return a+b\n",
    "\n",
    "print(sum(a=5,b=3))"
   ]
  },
  {
   "cell_type": "markdown",
   "metadata": {},
   "source": [
    "# Arbitary Argument:\n",
    "- Functions can accept a variable number of arguments usinh *args or **kwargs (keyword arguments).\n",
    "- **args is used to passn a variable number of positional arguments, while **kwargs is used to pass a variable of keyword arguments."
   ]
  },
  {
   "cell_type": "code",
   "execution_count": 2,
   "metadata": {},
   "outputs": [
    {
     "name": "stdout",
     "output_type": "stream",
     "text": [
      "1 2\n",
      "(3, 4, 5, 6)\n",
      "None\n"
     ]
    }
   ],
   "source": [
    "def add (a,b, *args):\n",
    "    print(a,b)\n",
    "    print(args)\n",
    "\n",
    "a = add(1,2,3,4,5,6)\n",
    "print(a)"
   ]
  },
  {
   "cell_type": "markdown",
   "metadata": {},
   "source": [
    "# Return Statement"
   ]
  },
  {
   "cell_type": "code",
   "execution_count": 5,
   "metadata": {},
   "outputs": [
    {
     "name": "stdout",
     "output_type": "stream",
     "text": [
      "Number is odd\n"
     ]
    }
   ],
   "source": [
    "def is_even_number(number):\n",
    "    if number %2==0:\n",
    "        return'Number is odd'\n",
    "    return'Number is odd'\n",
    "\n",
    "check_number = is_even_number(5)\n",
    "print(check_number)"
   ]
  },
  {
   "cell_type": "code",
   "execution_count": 23,
   "metadata": {},
   "outputs": [
    {
     "name": "stdout",
     "output_type": "stream",
     "text": [
      "50\n"
     ]
    }
   ],
   "source": [
    "#write a function that accepts three values (arguments) x,y,operation\n",
    "#where x=>int, y->int, operation -> string (+,-,*,/)\n",
    "#function should return the output based on the operation\n",
    "#i.e. if operation =+ add\n",
    "#operation = - substract and so on\n",
    "\n",
    "def calculator (x:int,y:int,operator:str):\n",
    "    if operator == '+':\n",
    "        return x+y\n",
    "    elif operator == '-':\n",
    "        return x-y\n",
    "    elif operator == '*':\n",
    "        return x*y\n",
    "    elif operator == '/':\n",
    "        if y==0:\n",
    "            print('Denominator can not be zero')\n",
    "            return\n",
    "        else:\n",
    "            return x/y\n",
    "    else:\n",
    "        print('Invalid Operation')\n",
    "\n",
    "result = calculator(5,10, '*')\n",
    "print(result)"
   ]
  },
  {
   "cell_type": "markdown",
   "metadata": {},
   "source": [
    "# Lambda Function"
   ]
  },
  {
   "cell_type": "code",
   "execution_count": 9,
   "metadata": {},
   "outputs": [
    {
     "name": "stdout",
     "output_type": "stream",
     "text": [
      "16\n"
     ]
    }
   ],
   "source": [
    "square = lambda x:x ** 2\n",
    "print(square(4)) # Output:16"
   ]
  },
  {
   "cell_type": "markdown",
   "metadata": {},
   "source": [
    "- Write a function Swap two numbers without using a temporary variable"
   ]
  },
  {
   "cell_type": "code",
   "execution_count": 12,
   "metadata": {},
   "outputs": [
    {
     "name": "stdout",
     "output_type": "stream",
     "text": [
      "10 5\n",
      "10 5\n"
     ]
    }
   ],
   "source": [
    "def swap_number(a,b):\n",
    "    a = a+b\n",
    "    b = a-b\n",
    "    a = a-b\n",
    "    print (a,b)\n",
    "    return a,b\n",
    "a,b = swap_number(5,10)\n",
    "print(a,b)\n",
    "\n"
   ]
  },
  {
   "cell_type": "markdown",
   "metadata": {},
   "source": [
    "- Write a function determine if a string is a palindrome."
   ]
  },
  {
   "cell_type": "code",
   "execution_count": 18,
   "metadata": {},
   "outputs": [
    {
     "data": {
      "text/plain": [
       "True"
      ]
     },
     "execution_count": 18,
     "metadata": {},
     "output_type": "execute_result"
    }
   ],
   "source": [
    "def is_palindrome(input):\n",
    "    if input == input[::-1]:\n",
    "        return True\n",
    "    return False\n",
    "is_palindrome(\"585\")"
   ]
  },
  {
   "cell_type": "markdown",
   "metadata": {},
   "source": [
    "- Write a function to count the number of vowels in a given string."
   ]
  },
  {
   "cell_type": "code",
   "execution_count": 20,
   "metadata": {},
   "outputs": [
    {
     "name": "stdout",
     "output_type": "stream",
     "text": [
      "3\n"
     ]
    }
   ],
   "source": [
    "def count_vowels(sentence):\n",
    "    vowels='aeiou'\n",
    "    total_vowels = 0\n",
    "    for char in sentence:\n",
    "        if char. lower() in vowels:\n",
    "            total_vowels+=1\n",
    "\n",
    "    return total_vowels\n",
    "\n",
    "total_vowels = count_vowels('Hello World')\n",
    "print(total_vowels)\n"
   ]
  },
  {
   "cell_type": "markdown",
   "metadata": {},
   "source": [
    "- Write a function to find the common elements between two lists."
   ]
  },
  {
   "cell_type": "code",
   "execution_count": null,
   "metadata": {},
   "outputs": [
    {
     "name": "stdout",
     "output_type": "stream",
     "text": [
      "[3, 3, 4]\n"
     ]
    }
   ],
   "source": [
    "list1 = [1, 2, 3, 4]  \n",
    "list2 = [3,3, 4, 5, 6] \n",
    "\n",
    "common_list = []\n",
    "for item1 in list1:\n",
    "    for item2 in list2:\n",
    "        if item1==item2:\n",
    "            common_list.append(item1)\n",
    "\n",
    "print(common_list)"
   ]
  },
  {
   "cell_type": "markdown",
   "metadata": {},
   "source": [
    "- Write a function to count the occurrences of a specific character in a string."
   ]
  },
  {
   "cell_type": "code",
   "execution_count": null,
   "metadata": {},
   "outputs": [
    {
     "name": "stdout",
     "output_type": "stream",
     "text": [
      "2\n"
     ]
    }
   ],
   "source": [
    "def count_char (string, character):\n",
    "    return string.count(character)\n",
    "\n",
    "string = \"amrita\"\n",
    "character = \"a\"\n",
    "count = count_char(string, character)\n",
    "print(count)"
   ]
  },
  {
   "cell_type": "markdown",
   "metadata": {},
   "source": [
    "- Write a function to find the second largest number in a list."
   ]
  },
  {
   "cell_type": "code",
   "execution_count": null,
   "metadata": {},
   "outputs": [
    {
     "name": "stdout",
     "output_type": "stream",
     "text": [
      "100 4\n"
     ]
    }
   ],
   "source": [
    "numbers = [3, 5, 1, 2,100, 4] \n",
    "\n",
    "max_number = numbers[0]\n",
    "second_max_number  = numbers[0]\n",
    "\n",
    "for n in numbers:\n",
    "    if n > max_number:\n",
    "        max_number = n\n",
    "    elif n>second_max_number and n != max_number:\n",
    "        second_max_number = n\n",
    "\n",
    "print(max_number,second_max_number)\n"
   ]
  },
  {
   "cell_type": "markdown",
   "metadata": {},
   "source": [
    "- Write a function to remove duplicates from a list"
   ]
  },
  {
   "cell_type": "code",
   "execution_count": 22,
   "metadata": {},
   "outputs": [
    {
     "name": "stdout",
     "output_type": "stream",
     "text": [
      "[1, 2, 3, 4, 5]\n"
     ]
    }
   ],
   "source": [
    "numbers = [1, 2, 2, 3, 4, 4, 5]\n",
    "unique_numbers = []\n",
    "for n in numbers:\n",
    "    if n  not in unique_numbers:\n",
    "        unique_numbers.append(n)\n",
    "\n",
    "print(unique_numbers)"
   ]
  }
 ],
 "metadata": {
  "kernelspec": {
   "display_name": "Python 3",
   "language": "python",
   "name": "python3"
  },
  "language_info": {
   "codemirror_mode": {
    "name": "ipython",
    "version": 3
   },
   "file_extension": ".py",
   "mimetype": "text/x-python",
   "name": "python",
   "nbconvert_exporter": "python",
   "pygments_lexer": "ipython3",
   "version": "3.12.7"
  }
 },
 "nbformat": 4,
 "nbformat_minor": 2
}
