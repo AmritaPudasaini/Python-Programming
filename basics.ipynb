{
 "cells": [
  {
   "cell_type": "markdown",
   "metadata": {},
   "source": [
    "# Primitive Data Types\n",
    "- Number (int, float, complex)\n",
    "- String\n",
    "- Boolean\n",
    "- None"
   ]
  },
  {
   "cell_type": "markdown",
   "metadata": {},
   "source": [
    "# String in Python"
   ]
  },
  {
   "cell_type": "code",
   "execution_count": 22,
   "metadata": {},
   "outputs": [
    {
     "name": "stdout",
     "output_type": "stream",
     "text": [
      "16\n",
      "A\n",
      "u\n",
      "i\n",
      "Amrita \n",
      "Pudasaini\n",
      "amrita pudasaini\n",
      "AMRITA PUDASAINI\n",
      "Amrita pudasaini\n",
      "0\n",
      "['Amrita', 'Pudasaini']\n",
      "['A', 'm', 'r', 'i', 't', 'a', ' ', 'P', 'u', 'd', 'a', 's', 'a', 'i', 'n', 'i']\n",
      "kjdbcvhd\n",
      "oxnisniwnx \n"
     ]
    }
   ],
   "source": [
    "name = 'Amrita Pudasaini'\n",
    "\n",
    "total_no_of_chars = len(name)\n",
    "print(total_no_of_chars)\n",
    "\n",
    "initial_char = name[0]\n",
    "print(initial_char)\n",
    "\n",
    "final_char = name[8]\n",
    "print(final_char)\n",
    "\n",
    "last_char = name[-1]\n",
    "print(last_char)\n",
    "\n",
    "one_char = name[:7]\n",
    "print(one_char)\n",
    "\n",
    "last_name = name[7:]\n",
    "print(last_name)\n",
    "\n",
    "print(name.lower())\n",
    "print(name.upper())\n",
    "print(name.capitalize())\n",
    "\n",
    "find_name = name.lower().find(\"amrita\")\n",
    "print(find_name)\n",
    "\n",
    "\n",
    "all_chars = name.split()\n",
    "print(all_chars)\n",
    "\n",
    "each_char = list(name)\n",
    "print(each_char)\n",
    "\n",
    "#multi-line string\n",
    "paragraph = \"\"\"kjdbcvhd\n",
    "oxnisniwnx \"\"\"\n",
    "print(paragraph)"
   ]
  },
  {
   "cell_type": "markdown",
   "metadata": {},
   "source": [
    "# Boolean\n",
    "- True\n",
    "- False"
   ]
  },
  {
   "cell_type": "code",
   "execution_count": 23,
   "metadata": {},
   "outputs": [
    {
     "name": "stdout",
     "output_type": "stream",
     "text": [
      "True False\n"
     ]
    }
   ],
   "source": [
    "passed = True\n",
    "active = \"False\"\n",
    "print(passed, active)"
   ]
  },
  {
   "cell_type": "markdown",
   "metadata": {},
   "source": [
    "# None\n",
    "- None keyword is used for defining a null value (no value at all)"
   ]
  },
  {
   "cell_type": "code",
   "execution_count": 25,
   "metadata": {},
   "outputs": [
    {
     "name": "stdout",
     "output_type": "stream",
     "text": [
      "None\n"
     ]
    }
   ],
   "source": [
    "middle_name = None\n",
    "print(middle_name)"
   ]
  },
  {
   "cell_type": "markdown",
   "metadata": {},
   "source": [
    "# Composite Data Types\n",
    "## Collection Types\n",
    "- List\n",
    "- Dictionary\n",
    "- Tuple\n",
    "- Set\n",
    "- Range"
   ]
  },
  {
   "cell_type": "markdown",
   "metadata": {},
   "source": [
    "# List\n",
    "- A list is a mutable and ordered collection of elements in Python.\n",
    "- It allows duplicate elements and maintains the order of insertion.\n",
    "- Lists are versatile and can contain elements of different data types.\n",
    "- Lists are defined by enclosing comma-separated elements within square brackets []"
   ]
  },
  {
   "cell_type": "code",
   "execution_count": null,
   "metadata": {},
   "outputs": [
    {
     "name": "stdout",
     "output_type": "stream",
     "text": [
      "After appending 'Sushi' : ['Pizza', 'MoMo', 'Sushi']\n",
      "After inserting 'Burger' at index 1: ['Pizza', 'Burger', 'MoMo', 'Sushi']\n"
     ]
    }
   ],
   "source": [
    "favorite_foods = ['Pizza', 'MoMo']\n",
    "                 \n",
    "numbers = [1,2,3,4,5,6,7]\n",
    "#length of list\n",
    "total_items = len(numbers)\n",
    "\n",
    "# Append an item to the list\n",
    "favorite_foods.append('Sushi')\n",
    "print(\"After appending 'Sushi' :\", favorite_foods)\n",
    "\n",
    "#insert an item to the list\n",
    "favorite_foods.insert (1, 'Burger')\n",
    "print(\"After inserting 'Burger' at index 1:\", favorite_foods)\n",
    "\n",
    "#remove an item from the list\n",
    "favorite_foods.remove"
   ]
  }
 ],
 "metadata": {
  "kernelspec": {
   "display_name": "base",
   "language": "python",
   "name": "python3"
  },
  "language_info": {
   "codemirror_mode": {
    "name": "ipython",
    "version": 3
   },
   "file_extension": ".py",
   "mimetype": "text/x-python",
   "name": "python",
   "nbconvert_exporter": "python",
   "pygments_lexer": "ipython3",
   "version": "3.12.4"
  }
 },
 "nbformat": 4,
 "nbformat_minor": 2
}
