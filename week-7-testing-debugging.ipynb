{
 "cells": [
  {
   "cell_type": "markdown",
   "metadata": {},
   "source": [
    "# Python Debugging and Testing"
   ]
  },
  {
   "cell_type": "markdown",
   "metadata": {},
   "source": [
    "## Memoization / dynamic programming Example"
   ]
  },
  {
   "cell_type": "code",
   "execution_count": null,
   "metadata": {},
   "outputs": [
    {
     "name": "stdout",
     "output_type": "stream",
     "text": [
      "55\n"
     ]
    }
   ],
   "source": [
    "# define a Fibonacci Function\n",
    "def fib_recursive(n):\n",
    "    if n <= 1:\n",
    "        return n\n",
    "    return fib_recursive(n-1) + fib_recursive(n-2)\n",
    "\n",
    "fib_10 = fib_recursive(10) # We can't use this function to get the large number fib number\n",
    "print(fib_10)"
   ]
  },
  {
   "cell_type": "code",
   "execution_count": null,
   "metadata": {},
   "outputs": [
    {
     "name": "stdout",
     "output_type": "stream",
     "text": [
      "354224848179261915075\n"
     ]
    }
   ],
   "source": [
    "# Initialize the memoization dictionary with base cases\n",
    "\n",
    "memo = {0: 0, 1: 1}\n",
    "def fib_memo(n): # time complexity 0(n)\n",
    "    # Check of the result for 'n' is already in the memo dictionary\n",
    "    if n in memo:\n",
    "        return memo[n]\n",
    "    \n",
    "    # Recursive case: calculate Fibonacci number\n",
    "    fib_number = fib_memo(n-1) + fib_memo(n-2)\n",
    "\n",
    "    # Store the result in the memo dictionary to avoid redundant calc\n",
    "    memo[n] = fib_number\n",
    "\n",
    "    return fib_number\n",
    "\n",
    "print(fib_memo(100))"
   ]
  },
  {
   "cell_type": "markdown",
   "metadata": {},
   "source": [
    "## Use Dict/Set (Hashmaps) to optimize the search"
   ]
  },
  {
   "cell_type": "code",
   "execution_count": null,
   "metadata": {},
   "outputs": [
    {
     "name": "stdout",
     "output_type": "stream",
     "text": [
      "[1, 2, 4, 10]\n"
     ]
    }
   ],
   "source": [
    "number = [1,1,2,2,4,10,10]\n",
    "unique_num = []\n",
    "for i in number:\n",
    "    if not i in unique_num:\n",
    "        unique_num.append(i)\n",
    "\n",
    "print(unique_num)\n",
    "    "
   ]
  },
  {
   "cell_type": "code",
   "execution_count": null,
   "metadata": {},
   "outputs": [
    {
     "name": "stdout",
     "output_type": "stream",
     "text": [
      "{1, 2, 3, 4}\n"
     ]
    }
   ],
   "source": [
    "num = [1,1,2,2,3,3,4,4]\n",
    "unq = set(num)\n",
    "print(unq)"
   ]
  },
  {
   "cell_type": "code",
   "execution_count": null,
   "metadata": {},
   "outputs": [],
   "source": [
    "num = [1,1,10,10]\n",
    "a = 2\n",
    "# def a fn that accepts a list and element and if element exists in list return True else False\n",
    "def func(num):\n",
    "    for a in num:\n",
    "        print(True)\n",
    "    else:\n",
    "        print(False)\n",
    "\n"
   ]
  },
  {
   "cell_type": "markdown",
   "metadata": {},
   "source": [
    "## Data Structure Selection"
   ]
  },
  {
   "cell_type": "code",
   "execution_count": null,
   "metadata": {},
   "outputs": [
    {
     "data": {
      "text/plain": [
       "1"
      ]
     },
     "metadata": {},
     "output_type": "display_data"
    }
   ],
   "source": [
    "from collections import deque\n",
    "\n",
    "#### Queue Implementation\n",
    "\n",
    "# Without optimization: Using list (0(n)) for dequeing\n",
    "queue = [1, 2, 3]\n",
    "queue.append(4) # Enque (O(1))\n",
    "queue.pop(0) # Deque (O(n))\n",
    "\n",
    "#Optimized: Using deque (0(1))\n",
    "queue_deque = deque([1, 2, 3])\n",
    "queue_deque.append(4) # Enque (0(1))\n",
    "queue_deque.popleft() # Deque (0(1))\n",
    "\n"
   ]
  },
  {
   "cell_type": "markdown",
   "metadata": {},
   "source": [
    "### Homework\n",
    "- Searching for Elements in a Collection (Use Dict)\n",
    "    - Write a functions so that form a given list of length n, if an element exists on the list return, True, else False\n",
    "\n",
    "- Queue-based problem\n",
    "    - FIFO and LIFO (use deque from collection)\n",
    "        - task: Simulate FIFO and LIFO queue with list and with deuq and profile"
   ]
  },
  {
   "cell_type": "markdown",
   "metadata": {},
   "source": [
    "## Code Profiling and Analysis\n",
    "### Command line Profiling"
   ]
  },
  {
   "cell_type": "code",
   "execution_count": null,
   "metadata": {},
   "outputs": [
    {
     "name": "stderr",
     "output_type": "stream",
     "text": [
      "Traceback (most recent call last):\n",
      "  File \"<frozen runpy>\", line 198, in _run_module_as_main\n",
      "  File \"<frozen runpy>\", line 88, in _run_code\n",
      "  File \"c:\\Users\\pudas\\anaconda3\\Lib\\cProfile.py\", line 195, in <module>\n",
      "    main()\n",
      "  File \"c:\\Users\\pudas\\anaconda3\\Lib\\cProfile.py\", line 172, in main\n",
      "    with io.open_code(progname) as fp:\n",
      "         ^^^^^^^^^^^^^^^^^^^^^^\n",
      "FileNotFoundError: [Errno 2] No such file or directory: 'main.py'\n"
     ]
    }
   ],
   "source": [
    "!python -m cProfile main.py"
   ]
  },
  {
   "cell_type": "code",
   "execution_count": null,
   "metadata": {},
   "outputs": [
    {
     "name": "stdout",
     "output_type": "stream",
     "text": [
      "3628800\n"
     ]
    }
   ],
   "source": [
    "import math\n",
    "from collections import deque, Counter\n",
    "\n",
    "# Custom implementation\n",
    "def custom_sqrt(x):\n",
    "    return x ** 0.5\n",
    "\n",
    "# Optimized using math.sqrt()\n",
    "def optimized_sqrt(x):\n",
    "    return math.sqrt(x)\n",
    "\n",
    "\n",
    "# Custom factorial\n",
    "def custom_factorial(n):\n",
    "    result = 1 \n",
    "    for i in range(1, n+1):\n",
    "        result *= i\n",
    "    return result\n",
    "\n",
    "# Optimized using math.factorial()\n",
    "print(math.factorial(10))"
   ]
  },
  {
   "cell_type": "markdown",
   "metadata": {},
   "source": [
    "## Homework\n",
    "- Explore itertools for memory efficient iteration task"
   ]
  },
  {
   "cell_type": "markdown",
   "metadata": {},
   "source": [
    "### LRU (last recently used)'"
   ]
  },
  {
   "cell_type": "code",
   "execution_count": null,
   "metadata": {},
   "outputs": [
    {
     "name": "stdout",
     "output_type": "stream",
     "text": [
      "354224848179261915075\n"
     ]
    }
   ],
   "source": [
    "from functools import lru_cache\n",
    "\n",
    "@lru_cache(maxsize = None) # Cache all results\n",
    "def fibonacci(n):\n",
    "    if n < 2:\n",
    "        return n\n",
    "    return fibonacci(n-1) + fibonacci(n-2)\n",
    "\n",
    "print(fibonacci(100))\n"
   ]
  },
  {
   "cell_type": "code",
   "execution_count": null,
   "metadata": {},
   "outputs": [
    {
     "name": "stdout",
     "output_type": "stream",
     "text": [
      "Reference count for 'a': 2\n",
      "Reference count for 'a' after assigning b = a: 3\n",
      "Reference count for 'b': 3\n",
      "Reference count for 'a' after assigning c = b: 4\n",
      "Reference count for 'b' after assigning c = b: 4\n",
      "Reference count for 'c': 4\n",
      "Reference count for 'a' after deleting 'b': 3\n",
      "Reference count for 'a' after deleting 'c': 2\n"
     ]
    }
   ],
   "source": [
    "import sys\n",
    "\n",
    "def reference_count_example():\n",
    "    a = []  \n",
    "    print(f\"Reference count for 'a': {sys.getrefcount(a)}\")\n",
    "\n",
    "    b = a  # 'b' references the same list object\n",
    "    print(f\"Reference count for 'a' after assigning b = a: {sys.getrefcount(a)}\")\n",
    "    print(f\"Reference count for 'b': {sys.getrefcount(b)}\")\n",
    "\n",
    "    c = b  # 'c' references the same list object\n",
    "    print(f\"Reference count for 'a' after assigning c = b: {sys.getrefcount(a)}\")\n",
    "    print(f\"Reference count for 'b' after assigning c = b: {sys.getrefcount(b)}\")\n",
    "    print(f\"Reference count for 'c': {sys.getrefcount(c)}\")\n",
    "\n",
    "    # Now, deleting the references\n",
    "    del b\n",
    "    print(f\"Reference count for 'a' after deleting 'b': {sys.getrefcount(a)}\")\n",
    "\n",
    "    del c\n",
    "    print(f\"Reference count for 'a' after deleting 'c': {sys.getrefcount(a)}\")\n",
    "\n",
    "reference_count_example()"
   ]
  },
  {
   "cell_type": "markdown",
   "metadata": {},
   "source": [
    "# Global Interpreter Lock (GIL)\n",
    "## GIL limits multi-threaded performance in CPU-bound tasks"
   ]
  },
  {
   "cell_type": "code",
   "execution_count": null,
   "metadata": {},
   "outputs": [
    {
     "name": "stdout",
     "output_type": "stream",
     "text": [
      "Running with Threads:\n",
      "Sum of squares up to 10000000: 333333283333335000000Sum of squares up to 10000000: 333333283333335000000\n",
      "\n",
      "Time taken (threads): 0.89 seconds\n",
      "\n",
      "Running Single-Threaded:\n",
      "Sum of squares up to 10000000: 333333283333335000000\n",
      "Sum of squares up to 10000000: 333333283333335000000\n",
      "Time taken (single thread): 0.85 seconds\n"
     ]
    }
   ],
   "source": [
    "import threading\n",
    "import time\n",
    "\n",
    "def sum_of_squares(n):\n",
    "    total = sum(i * i for i in range(n))\n",
    "    print(f\"Sum of squares up to {n}: {total}\")\n",
    "\n",
    "# Measure time for multi-threaded execution\n",
    "def threaded_execution():\n",
    "    threads = []\n",
    "    start_time = time.time()\n",
    "    # Create threads\n",
    "    for _ in range(2):\n",
    "        t = threading.Thread(target=sum_of_squares, args=(10_000_000,))\n",
    "        threads.append(t)\n",
    "        t.start()\n",
    "    \n",
    "    # Wait for all threads to complete\n",
    "    for t in threads:\n",
    "        t.join()\n",
    "\n",
    "    print(f\"Time taken (threads): {time.time() - start_time:.2f} seconds\")\n",
    "\n",
    "# Measure time for single-threaded execution\n",
    "def single_threaded_execution():\n",
    "    start_time = time.time()\n",
    "    sum_of_squares(10_000_000)\n",
    "    sum_of_squares(10_000_000)\n",
    "    print(f\"Time taken (single thread): {time.time() - start_time:.2f} seconds\")\n",
    "\n",
    "print(\"Running with Threads:\")\n",
    "threaded_execution()\n",
    "print(\"\\nRunning Single-Threaded:\")\n",
    "single_threaded_execution()"
   ]
  }
 ],
 "metadata": {
  "language_info": {
   "name": "python"
  }
 },
 "nbformat": 4,
 "nbformat_minor": 2
}
