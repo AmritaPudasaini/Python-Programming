{
 "cells": [
  {
   "cell_type": "markdown",
   "metadata": {},
   "source": [
    "# Python Debugging and Testing"
   ]
  },
  {
   "cell_type": "markdown",
   "metadata": {},
   "source": [
    "## Memoization / dynamic programming Example"
   ]
  },
  {
   "cell_type": "code",
   "execution_count": 1,
   "metadata": {},
   "outputs": [
    {
     "name": "stdout",
     "output_type": "stream",
     "text": [
      "55\n"
     ]
    }
   ],
   "source": [
    "# define a Fibonacci Function\n",
    "def fib_recursive(n):\n",
    "    if n <= 1:\n",
    "        return n\n",
    "    return fib_recursive(n-1) + fib_recursive(n-2)\n",
    "\n",
    "fib_10 = fib_recursive(10) # We can't use this function to get the large number fib number\n",
    "print(fib_10)"
   ]
  },
  {
   "cell_type": "code",
   "execution_count": 2,
   "metadata": {},
   "outputs": [
    {
     "name": "stdout",
     "output_type": "stream",
     "text": [
      "354224848179261915075\n"
     ]
    }
   ],
   "source": [
    "# Initialize the memoization dictionary with base cases\n",
    "\n",
    "memo = {0: 0, 1: 1}\n",
    "def fib_memo(n): # time complexity 0(n)\n",
    "    # Check of the result for 'n' is already in the memo dictionary\n",
    "    if n in memo:\n",
    "        return memo[n]\n",
    "    \n",
    "    # Recursive case: calculate Fibonacci number\n",
    "    fib_number = fib_memo(n-1) + fib_memo(n-2)\n",
    "\n",
    "    # Store the result in the memo dictionary to avoid redundant calc\n",
    "    memo[n] = fib_number\n",
    "\n",
    "    return fib_number\n",
    "\n",
    "print(fib_memo(100))"
   ]
  },
  {
   "cell_type": "markdown",
   "metadata": {},
   "source": [
    "## Use Dict/Set (Hashmaps) to optimize the search"
   ]
  },
  {
   "cell_type": "code",
   "execution_count": 3,
   "metadata": {},
   "outputs": [
    {
     "name": "stdout",
     "output_type": "stream",
     "text": [
      "[1, 2, 4, 10]\n"
     ]
    }
   ],
   "source": [
    "number = [1,1,2,2,4,10,10]\n",
    "unique_num = []\n",
    "for i in number:\n",
    "    if not i in unique_num:\n",
    "        unique_num.append(i)\n",
    "\n",
    "print(unique_num)\n",
    "    "
   ]
  },
  {
   "cell_type": "code",
   "execution_count": 4,
   "metadata": {},
   "outputs": [
    {
     "name": "stdout",
     "output_type": "stream",
     "text": [
      "{1, 2, 3, 4}\n"
     ]
    }
   ],
   "source": [
    "num = [1,1,2,2,3,3,4,4]\n",
    "unq = set(num)\n",
    "print(unq)"
   ]
  },
  {
   "cell_type": "code",
   "execution_count": 5,
   "metadata": {},
   "outputs": [],
   "source": [
    "num = [1,1,10,10]\n",
    "a = 2\n",
    "# def a fn that accepts a list and element and if element exists in list return True else False\n",
    "def func(num):\n",
    "    for a in num:\n",
    "        print(True)\n",
    "    else:\n",
    "        print(False)\n",
    "\n"
   ]
  },
  {
   "cell_type": "markdown",
   "metadata": {},
   "source": [
    "## Data Structure Selection"
   ]
  },
  {
   "cell_type": "code",
   "execution_count": 6,
   "metadata": {},
   "outputs": [
    {
     "data": {
      "text/plain": [
       "1"
      ]
     },
     "execution_count": 6,
     "metadata": {},
     "output_type": "execute_result"
    }
   ],
   "source": [
    "from collections import deque\n",
    "\n",
    "#### Queue Implementation\n",
    "\n",
    "# Without optimization: Using list (0(n)) for dequeing\n",
    "queue = [1, 2, 3]\n",
    "queue.append(4) # Enque (O(1))\n",
    "queue.pop(0) # Deque (O(n))\n",
    "\n",
    "#Optimized: Using deque (0(1))\n",
    "queue_deque = deque([1, 2, 3])\n",
    "queue_deque.append(4) # Enque (0(1))\n",
    "queue_deque.popleft() # Deque (0(1))\n",
    "\n"
   ]
  },
  {
   "cell_type": "markdown",
   "metadata": {},
   "source": [
    "### Homework\n",
    "- Searching for Elements in a Collection (Use Dict)\n",
    "    - Write a functions so that form a given list of length n, if an element exists on the list return, True, else False\n",
    "\n",
    "- Queue-based problem\n",
    "    - FIFO and LIFO (use deque from collection)\n",
    "        - task: Simulate FIFO and LIFO queue with list and with deuq and profile"
   ]
  },
  {
   "cell_type": "markdown",
   "metadata": {},
   "source": [
    "## Code Profiling and Analysis\n",
    "### Command line Profiling"
   ]
  },
  {
   "cell_type": "code",
   "execution_count": 7,
   "metadata": {},
   "outputs": [
    {
     "name": "stdout",
     "output_type": "stream",
     "text": [
      "         6974 function calls (6730 primitive calls) in 0.011 seconds\n",
      "\n",
      "   Ordered by: cumulative time\n",
      "\n",
      "   ncalls  tottime  percall  cumtime  percall filename:lineno(function)\n",
      "      4/1    0.000    0.000    0.011    0.011 {built-in method builtins.exec}\n",
      "        1    0.000    0.000    0.011    0.011 main.py:1(<module>)\n",
      "      6/2    0.000    0.000    0.009    0.005 <frozen importlib._bootstrap>:1349(_find_and_load)\n",
      "      6/2    0.000    0.000    0.009    0.005 <frozen importlib._bootstrap>:1304(_find_and_load_unlocked)\n",
      "      6/2    0.000    0.000    0.009    0.004 <frozen importlib._bootstrap>:911(_load_unlocked)\n",
      "      3/1    0.000    0.000    0.008    0.008 <frozen importlib._bootstrap_external>:989(exec_module)\n",
      "     12/4    0.000    0.000    0.007    0.002 <frozen importlib._bootstrap>:480(_call_with_frames_removed)\n",
      "        1    0.000    0.000    0.007    0.007 __init__.py:1(<module>)\n",
      "        3    0.000    0.000    0.003    0.001 <frozen importlib._bootstrap_external>:1062(get_code)\n",
      "        4    0.000    0.000    0.003    0.001 __init__.py:226(compile)\n",
      "        4    0.000    0.000    0.003    0.001 __init__.py:280(_compile)\n",
      "        4    0.000    0.000    0.003    0.001 _compiler.py:740(compile)\n",
      "       25    0.000    0.000    0.002    0.000 {built-in method builtins.__build_class__}\n",
      "        3    0.000    0.000    0.002    0.001 <frozen importlib._bootstrap_external>:1183(get_data)\n",
      "        3    0.002    0.001    0.002    0.001 {built-in method _io.open_code}\n",
      "        6    0.000    0.000    0.001    0.000 <frozen importlib._bootstrap>:1240(_find_spec)\n",
      "        4    0.000    0.000    0.001    0.000 _parser.py:969(parse)\n",
      "     20/4    0.000    0.000    0.001    0.000 _parser.py:452(_parse_sub)\n",
      "     29/4    0.001    0.000    0.001    0.000 _parser.py:512(_parse)\n",
      "        3    0.000    0.000    0.001    0.000 <frozen importlib._bootstrap_external>:1520(find_spec)\n",
      "        3    0.000    0.000    0.001    0.000 <frozen importlib._bootstrap_external>:1491(_get_spec)\n",
      "       12    0.000    0.000    0.001    0.000 <frozen importlib._bootstrap_external>:1593(find_spec)\n",
      "        6    0.000    0.000    0.001    0.000 __init__.py:1660(_log)\n",
      "        1    0.000    0.000    0.001    0.001 string.py:1(<module>)\n",
      "        4    0.000    0.000    0.001    0.000 _compiler.py:573(_code)\n",
      "        1    0.000    0.000    0.001    0.001 __init__.py:469(StrFormatStyle)\n",
      "        3    0.000    0.000    0.001    0.000 <frozen importlib._bootstrap_external>:751(_compile_bytecode)\n",
      "     61/4    0.000    0.000    0.001    0.000 _compiler.py:37(_compile)\n",
      "        1    0.000    0.000    0.001    0.001 string.py:69(__init_subclass__)\n",
      "        3    0.001    0.000    0.001    0.000 {built-in method marshal.loads}\n",
      "        1    0.000    0.000    0.001    0.001 __init__.py:436(PercentStyle)\n",
      "       20    0.000    0.000    0.001    0.000 <frozen importlib._bootstrap_external>:140(_path_stat)\n",
      "        6    0.000    0.000    0.001    0.000 __init__.py:1686(handle)\n",
      "       20    0.001    0.000    0.001    0.000 {built-in method nt.stat}\n",
      "        6    0.000    0.000    0.001    0.000 __init__.py:1746(callHandlers)\n",
      "        6    0.000    0.000    0.001    0.000 __init__.py:1011(handle)\n",
      "       61    0.000    0.000    0.001    0.000 <frozen importlib._bootstrap_external>:96(_path_join)\n",
      "        6    0.000    0.000    0.001    0.000 __init__.py:1148(emit)\n",
      "       20    0.000    0.000    0.001    0.000 _compiler.py:243(_optimize_charset)\n",
      "        2    0.000    0.000    0.000    0.000 __init__.py:2175(error)\n",
      "        2    0.000    0.000    0.000    0.000 __init__.py:1558(error)\n",
      "        1    0.000    0.000    0.000    0.000 __init__.py:2159(critical)\n",
      "        1    0.000    0.000    0.000    0.000 __init__.py:1576(critical)\n",
      "        1    0.000    0.000    0.000    0.000 traceback.py:1(<module>)\n",
      "        6    0.000    0.000    0.000    0.000 __init__.py:1645(makeRecord)\n",
      "        6    0.000    0.000    0.000    0.000 __init__.py:298(__init__)\n",
      "        6    0.000    0.000    0.000    0.000 __init__.py:1611(findCaller)\n",
      "        6    0.000    0.000    0.000    0.000 __init__.py:988(format)\n",
      "        6    0.000    0.000    0.000    0.000 __init__.py:690(format)\n",
      "        6    0.000    0.000    0.000    0.000 <frozen importlib._bootstrap>:806(module_from_spec)\n",
      "        6    0.000    0.000    0.000    0.000 <frozen importlib._bootstrap>:416(__enter__)\n",
      "       24    0.000    0.000    0.000    0.000 __init__.py:200(_is_internal_frame)\n",
      "      431    0.000    0.000    0.000    0.000 _parser.py:261(get)\n",
      "        1    0.000    0.000    0.000    0.000 __init__.py:2218(debug)\n",
      "        1    0.000    0.000    0.000    0.000 __init__.py:1517(debug)\n",
      "        3    0.000    0.000    0.000    0.000 {method 'read' of '_io.BufferedReader' objects}\n",
      "       25    0.000    0.000    0.000    0.000 <frozen ntpath>:51(normcase)\n",
      "        1    0.000    0.000    0.000    0.000 __init__.py:355(namedtuple)\n",
      "        6    0.000    0.000    0.000    0.000 __init__.py:622(formatTime)\n",
      "      349    0.000    0.000    0.000    0.000 _parser.py:168(__getitem__)\n",
      "    74/17    0.000    0.000    0.000    0.000 _parser.py:178(getwidth)\n",
      "        5    0.000    0.000    0.000    0.000 <frozen importlib._bootstrap_external>:159(_path_isfile)\n",
      "        5    0.000    0.000    0.000    0.000 <frozen importlib._bootstrap_external>:150(_path_is_mode_type)\n",
      "      732    0.000    0.000    0.000    0.000 {method 'append' of 'list' objects}\n",
      "        6    0.000    0.000    0.000    0.000 <frozen importlib._bootstrap_external>:482(cache_from_source)\n",
      "  764/700    0.000    0.000    0.000    0.000 {built-in method builtins.len}\n",
      "        6    0.000    0.000    0.000    0.000 <frozen importlib._bootstrap>:304(acquire)\n",
      "        6    0.000    0.000    0.000    0.000 <frozen importlib._bootstrap>:733(_init_module_attrs)\n",
      "        6    0.000    0.000    0.000    0.000 {method 'write' of '_io.TextIOWrapper' objects}\n",
      "        1    0.000    0.000    0.000    0.000 __init__.py:2208(info)\n",
      "        1    0.000    0.000    0.000    0.000 __init__.py:1529(info)\n",
      "        4    0.000    0.000    0.000    0.000 _compiler.py:511(_compile_info)\n",
      "      512    0.000    0.000    0.000    0.000 _parser.py:240(__next)\n",
      "       13    0.000    0.000    0.000    0.000 _parser.py:98(closegroup)\n",
      "        1    0.000    0.000    0.000    0.000 {built-in method builtins.eval}\n",
      "        6    0.000    0.000    0.000    0.000 {built-in method time.strftime}\n",
      "        6    0.000    0.000    0.000    0.000 <frozen importlib._bootstrap>:632(cached)\n",
      "        3    0.000    0.000    0.000    0.000 <frozen importlib._bootstrap_external>:1202(path_stats)\n",
      "        3    0.000    0.000    0.000    0.000 <frozen importlib._bootstrap_external>:611(_get_cached)\n",
      "        1    0.000    0.000    0.000    0.000 __init__.py:2193(warning)\n",
      "        6    0.000    0.000    0.000    0.000 <frozen ntpath>:257(splitext)\n",
      "        1    0.000    0.000    0.000    0.000 __init__.py:1541(warning)\n",
      "        1    0.000    0.000    0.000    0.000 weakref.py:104(__init__)\n",
      "      503    0.000    0.000    0.000    0.000 {built-in method builtins.isinstance}\n",
      "        6    0.000    0.000    0.000    0.000 <frozen genericpath>:133(_splitext)\n",
      "        1    0.000    0.000    0.000    0.000 weakref.py:289(update)\n",
      "        6    0.000    0.000    0.000    0.000 <frozen importlib._bootstrap>:162(__enter__)\n",
      "        6    0.000    0.000    0.000    0.000 <frozen importlib._bootstrap>:426(_get_module_lock)\n",
      "        3    0.000    0.000    0.000    0.000 <frozen importlib._bootstrap>:989(create_module)\n",
      "        6    0.000    0.000    0.000    0.000 <frozen ntpath>:268(basename)\n",
      "       28    0.000    0.000    0.000    0.000 {built-in method builtins.max}\n",
      "        1    0.000    0.000    0.000    0.000 enum.py:1551(__or__)\n",
      "        9    0.000    0.000    0.000    0.000 enum.py:726(__call__)\n",
      "        3    0.000    0.000    0.000    0.000 {built-in method _imp.create_builtin}\n",
      "        6    0.000    0.000    0.000    0.000 <frozen ntpath>:236(split)\n",
      "      201    0.000    0.000    0.000    0.000 {method 'endswith' of 'str' objects}\n",
      "        6    0.000    0.000    0.000    0.000 _compiler.py:386(_mk_bitmap)\n",
      "        6    0.000    0.000    0.000    0.000 {built-in method time.localtime}\n",
      "        6    0.000    0.000    0.000    0.000 <frozen importlib._bootstrap>:124(setdefault)\n",
      "        9    0.000    0.000    0.000    0.000 enum.py:1129(__new__)\n",
      "        6    0.000    0.000    0.000    0.000 __init__.py:1790(isEnabledFor)\n",
      "        1    0.000    0.000    0.000    0.000 __init__.py:2021(basicConfig)\n",
      "        8    0.000    0.000    0.000    0.000 enum.py:1562(__and__)\n",
      "      138    0.000    0.000    0.000    0.000 {built-in method builtins.min}\n",
      "        3    0.000    0.000    0.000    0.000 <frozen importlib._bootstrap_external>:1588(_get_spec)\n",
      "      181    0.000    0.000    0.000    0.000 _parser.py:256(match)\n",
      "      131    0.000    0.000    0.000    0.000 _parser.py:164(__len__)\n",
      "      135    0.000    0.000    0.000    0.000 {method 'startswith' of 'str' objects}\n",
      "      195    0.000    0.000    0.000    0.000 {method 'rstrip' of 'str' objects}\n",
      "       26    0.000    0.000    0.000    0.000 _compiler.py:398(_simple)\n",
      "        6    0.000    0.000    0.000    0.000 __init__.py:1137(flush)\n",
      "       69    0.000    0.000    0.000    0.000 _parser.py:176(append)\n",
      "        6    0.000    0.000    0.000    0.000 __init__.py:82(find_spec)\n",
      "        6    0.000    0.000    0.000    0.000 <frozen importlib._bootstrap>:982(find_spec)\n",
      "       21    0.000    0.000    0.000    0.000 _parser.py:372(_escape)\n",
      "       20    0.000    0.000    0.000    0.000 _compiler.py:216(_compile_charset)\n",
      "        3    0.000    0.000    0.000    0.000 {method '__exit__' of '_io._IOBase' objects}\n",
      "        6    0.000    0.000    0.000    0.000 <frozen importlib._bootstrap_external>:132(_path_split)\n",
      "       25    0.000    0.000    0.000    0.000 {built-in method _winapi.LCMapStringEx}\n",
      "        1    0.000    0.000    0.000    0.000 enum.py:1414(_missing_)\n",
      "        3    0.000    0.000    0.000    0.000 <frozen importlib._bootstrap_external>:802(spec_from_file_location)\n",
      "        6    0.000    0.000    0.000    0.000 <frozen importlib._bootstrap>:420(__exit__)\n",
      "       13    0.000    0.000    0.000    0.000 _parser.py:86(opengroup)\n",
      "       76    0.000    0.000    0.000    0.000 _parser.py:293(tell)\n",
      "       34    0.000    0.000    0.000    0.000 {method 'replace' of 'str' objects}\n",
      "        2    0.000    0.000    0.000    0.000 __init__.py:928(__init__)\n",
      "        6    0.000    0.000    0.000    0.000 <frozen importlib._bootstrap>:372(release)\n",
      "       30    0.000    0.000    0.000    0.000 {method 'rfind' of 'str' objects}\n",
      "        1    0.000    0.000    0.000    0.000 {method 'disable' of '_lsprof.Profiler' objects}\n",
      "        6    0.000    0.000    0.000    0.000 __init__.py:674(formatMessage)\n",
      "       70    0.000    0.000    0.000    0.000 {method 'join' of 'str' objects}\n",
      "       60    0.000    0.000    0.000    0.000 {method 'find' of 'bytearray' objects}\n",
      "       78    0.000    0.000    0.000    0.000 {method 'get' of 'dict' objects}\n",
      "        6    0.000    0.000    0.000    0.000 <frozen importlib._bootstrap>:232(__init__)\n",
      "        2    0.000    0.000    0.000    0.000 __init__.py:592(__init__)\n",
      "        3    0.000    0.000    0.000    0.000 <frozen importlib._bootstrap_external>:666(_classify_pyc)\n",
      "       27    0.000    0.000    0.000    0.000 enum.py:1544(_get_value)\n",
      "        3    0.000    0.000    0.000    0.000 <frozen importlib._bootstrap>:662(spec_from_loader)\n",
      "        6    0.000    0.000    0.000    0.000 __init__.py:462(format)\n",
      "        3    0.000    0.000    0.000    0.000 <frozen importlib._bootstrap_external>:185(_path_abspath)\n",
      "       11    0.000    0.000    0.000    0.000 _parser.py:449(_uniq)\n",
      "        1    0.000    0.000    0.000    0.000 __init__.py:1293(__init__)\n",
      "        2    0.000    0.000    0.000    0.000 _compiler.py:391(_bytes_to_codes)\n",
      "       18    0.000    0.000    0.000    0.000 <frozen importlib._bootstrap>:1226(__exit__)\n",
      "        3    0.000    0.000    0.000    0.000 enum.py:1404(_iter_member_by_def_)\n",
      "        6    0.000    0.000    0.000    0.000 <frozen importlib._bootstrap>:74(__new__)\n",
      "       34    0.000    0.000    0.000    0.000 _parser.py:83(groups)\n",
      "       12    0.000    0.000    0.000    0.000 __init__.py:968(acquire)\n",
      "        6    0.000    0.000    0.000    0.000 __init__.py:668(usesTime)\n",
      "        6    0.000    0.000    0.000    0.000 __init__.py:455(_format)\n",
      "        6    0.000    0.000    0.000    0.000 <frozen ntpath>:179(splitroot)\n",
      "       30    0.000    0.000    0.000    0.000 {built-in method _imp.release_lock}\n",
      "       32    0.000    0.000    0.000    0.000 {built-in method builtins.hasattr}\n",
      "        3    0.000    0.000    0.000    0.000 <frozen importlib._bootstrap_external>:172(_path_isabs)\n",
      "        9    0.000    0.000    0.000    0.000 <frozen importlib._bootstrap_external>:84(_unpack_uint32)\n",
      "        2    0.000    0.000    0.000    0.000 __init__.py:450(validate)\n",
      "        4    0.000    0.000    0.000    0.000 _parser.py:274(getuntil)\n",
      "       15    0.000    0.000    0.000    0.000 <frozen importlib._bootstrap_external>:1469(_path_importer_cache)\n",
      "       62    0.000    0.000    0.000    0.000 _parser.py:113(__init__)\n",
      "        1    0.000    0.000    0.000    0.000 {built-in method builtins.sorted}\n",
      "       63    0.000    0.000    0.000    0.000 <frozen importlib._bootstrap>:491(_verbose_message)\n",
      "        3    0.000    0.000    0.000    0.000 <frozen importlib._bootstrap_external>:699(_validate_timestamp_pyc)\n",
      "       18    0.000    0.000    0.000    0.000 <frozen importlib._bootstrap_external>:134(<genexpr>)\n",
      "        2    0.000    0.000    0.000    0.000 _parser.py:893(_parse_flags)\n",
      "       36    0.000    0.000    0.000    0.000 {built-in method builtins.getattr}\n",
      "       22    0.000    0.000    0.000    0.000 {method 'acquire' of '_thread.RLock' objects}\n",
      "        1    0.000    0.000    0.000    0.000 __init__.py:1126(__init__)\n",
      "        6    0.000    0.000    0.000    0.000 __init__.py:447(usesTime)\n",
      "        6    0.000    0.000    0.000    0.000 {built-in method _imp.is_builtin}\n",
      "       75    0.000    0.000    0.000    0.000 {built-in method builtins.ord}\n",
      "        1    0.000    0.000    0.000    0.000 __init__.py:1117(StreamHandler)\n",
      "        2    0.000    0.000    0.000    0.000 {method 'search' of 're.Pattern' objects}\n",
      "       29    0.000    0.000    0.000    0.000 {method 'rpartition' of 'str' objects}\n",
      "        3    0.000    0.000    0.000    0.000 <frozen importlib._bootstrap>:997(exec_module)\n",
      "        2    0.000    0.000    0.000    0.000 __init__.py:892(_addHandlerRef)\n",
      "        1    0.000    0.000    0.000    0.000 __init__.py:727(BufferingFormatter)\n",
      "        6    0.000    0.000    0.000    0.000 <frozen importlib._bootstrap>:82(remove)\n",
      "        6    0.000    0.000    0.000    0.000 <frozen importlib._bootstrap>:445(cb)\n",
      "       12    0.000    0.000    0.000    0.000 __init__.py:975(release)\n",
      "       10    0.000    0.000    0.000    0.000 __init__.py:234(_acquireLock)\n",
      "       52    0.000    0.000    0.000    0.000 {built-in method nt.fspath}\n",
      "        4    0.000    0.000    0.000    0.000 {built-in method _sre.compile}\n",
      "        3    0.000    0.000    0.000    0.000 _compiler.py:436(_get_literal_prefix)\n",
      "        1    0.000    0.000    0.000    0.000 __init__.py:1878(LoggerAdapter)\n",
      "       27    0.000    0.000    0.000    0.000 _parser.py:172(__setitem__)\n",
      "        1    0.000    0.000    0.000    0.000 __init__.py:1510(setLevel)\n",
      "        6    0.000    0.000    0.000    0.000 {method 'format' of 'str' objects}\n",
      "        3    0.000    0.000    0.000    0.000 {built-in method _imp._fix_co_filename}\n",
      "        6    0.000    0.000    0.000    0.000 <frozen importlib._bootstrap>:79(__init__)\n",
      "        4    0.000    0.000    0.000    0.000 _parser.py:231(__init__)\n",
      "        6    0.000    0.000    0.000    0.000 {built-in method builtins.locals}\n",
      "        2    0.000    0.000    0.000    0.000 {method 'tolist' of 'memoryview' objects}\n",
      "       18    0.000    0.000    0.000    0.000 <frozen importlib._bootstrap>:1222(__enter__)\n",
      "       11    0.000    0.000    0.000    0.000 {built-in method fromkeys}\n",
      "        6    0.000    0.000    0.000    0.000 __init__.py:170(<lambda>)\n",
      "        3    0.000    0.000    0.000    0.000 enum.py:1394(_iter_member_by_value_)\n",
      "        2    0.000    0.000    0.000    0.000 __init__.py:958(createLock)\n",
      "       12    0.000    0.000    0.000    0.000 __init__.py:831(filter)\n",
      "       21    0.000    0.000    0.000    0.000 {method 'pop' of 'dict' objects}\n",
      "       11    0.000    0.000    0.000    0.000 {method 'extend' of 'list' objects}\n",
      "        6    0.000    0.000    0.000    0.000 <frozen importlib._bootstrap>:173(__exit__)\n",
      "        3    0.000    0.000    0.000    0.000 <frozen importlib._bootstrap>:1128(find_spec)\n",
      "       10    0.000    0.000    0.000    0.000 __init__.py:243(_releaseLock)\n",
      "        3    0.000    0.000    0.000    0.000 <frozen importlib._bootstrap>:501(_requires_builtin_wrapper)\n",
      "        1    0.000    0.000    0.000    0.000 __init__.py:1353(Manager)\n",
      "        6    0.000    0.000    0.000    0.000 __init__.py:129(getLevelName)\n",
      "       36    0.000    0.000    0.000    0.000 {built-in method _sre.unicode_iscased}\n",
      "       24    0.000    0.000    0.000    0.000 {built-in method _thread.get_ident}\n",
      "        6    0.000    0.000    0.000    0.000 {method 'flush' of '_io.TextIOWrapper' objects}\n",
      "       30    0.000    0.000    0.000    0.000 {built-in method _imp.acquire_lock}\n",
      "        3    0.000    0.000    0.000    0.000 threading.py:124(RLock)\n",
      "        1    0.000    0.000    0.000    0.000 __init__.py:1482(Logger)\n",
      "        6    0.000    0.000    0.000    0.000 threading.py:1483(current_thread)\n",
      "       22    0.000    0.000    0.000    0.000 {method 'release' of '_thread.RLock' objects}\n",
      "        1    0.000    0.000    0.000    0.000 __init__.py:1465(_clear_cache)\n",
      "        3    0.000    0.000    0.000    0.000 {built-in method _imp.exec_builtin}\n",
      "        6    0.000    0.000    0.000    0.000 {built-in method _thread.allocate_lock}\n",
      "        1    0.000    0.000    0.000    0.000 traceback.py:374(StackSummary)\n",
      "        3    0.000    0.000    0.000    0.000 <frozen importlib._bootstrap_external>:643(_check_name_wrapper)\n",
      "        1    0.000    0.000    0.000    0.000 string.py:57(Template)\n",
      "        1    0.000    0.000    0.000    0.000 __init__.py:1867(__init__)\n",
      "       40    0.000    0.000    0.000    0.000 {built-in method _sre.unicode_tolower}\n",
      "       12    0.000    0.000    0.000    0.000 <frozen importlib._bootstrap_external>:67(_relax_case)\n",
      "        3    0.000    0.000    0.000    0.000 {built-in method nt.getcwd}\n",
      "        6    0.000    0.000    0.000    0.000 __init__.py:383(getMessage)\n",
      "        6    0.000    0.000    0.000    0.000 <frozen importlib._bootstrap>:645(parent)\n",
      "       15    0.000    0.000    0.000    0.000 _compiler.py:31(_combine_flags)\n",
      "        6    0.000    0.000    0.000    0.000 {built-in method nt.getpid}\n",
      "        6    0.000    0.000    0.000    0.000 {method 'translate' of 'bytearray' objects}\n",
      "        6    0.000    0.000    0.000    0.000 {method 'find' of 'str' objects}\n",
      "        6    0.000    0.000    0.000    0.000 <frozen ntpath>:35(_get_bothseps)\n",
      "        1    0.000    0.000    0.000    0.000 __init__.py:919(Handler)\n",
      "        7    0.000    0.000    0.000    0.000 {built-in method __new__ of type object at 0x00007FFBBA127A20}\n",
      "       12    0.000    0.000    0.000    0.000 {method '__exit__' of '_thread.RLock' objects}\n",
      "        1    0.000    0.000    0.000    0.000 traceback.py:248(FrameSummary)\n",
      "        8    0.000    0.000    0.000    0.000 _compiler.py:570(isstring)\n",
      "        3    0.000    0.000    0.000    0.000 <frozen importlib._bootstrap>:48(_new_module)\n",
      "        1    0.000    0.000    0.000    0.000 __init__.py:255(escape)\n",
      "        1    0.000    0.000    0.000    0.000 __init__.py:1497(__init__)\n",
      "        6    0.000    0.000    0.000    0.000 threading.py:1180(name)\n",
      "        4    0.000    0.000    0.000    0.000 _parser.py:77(__init__)\n",
      "        1    0.000    0.000    0.000    0.000 traceback.py:679(TracebackException)\n",
      "        2    0.000    0.000    0.000    0.000 _compiler.py:407(_generate_overlap_table)\n",
      "        7    0.000    0.000    0.000    0.000 {built-in method time.time}\n",
      "        5    0.000    0.000    0.000    0.000 __init__.py:208(_checkLevel)\n",
      "        9    0.000    0.000    0.000    0.000 {built-in method from_bytes}\n",
      "        6    0.000    0.000    0.000    0.000 {built-in method _weakref._remove_dead_weakref}\n",
      "        4    0.000    0.000    0.000    0.000 _parser.py:304(checkgroupname)\n",
      "        1    0.000    0.000    0.000    0.000 __init__.py:546(Formatter)\n",
      "        1    0.000    0.000    0.000    0.000 __init__.py:1702(addHandler)\n",
      "        3    0.000    0.000    0.000    0.000 {built-in method nt._path_splitroot}\n",
      "        1    0.000    0.000    0.000    0.000 __init__.py:1358(__init__)\n",
      "        3    0.000    0.000    0.000    0.000 enum.py:202(__get__)\n",
      "        3    0.000    0.000    0.000    0.000 enum.py:117(_iter_bits_lsb)\n",
      "        3    0.000    0.000    0.000    0.000 _parser.py:295(seek)\n",
      "        9    0.000    0.000    0.000    0.000 {method 'isidentifier' of 'str' objects}\n",
      "        6    0.000    0.000    0.000    0.000 <frozen importlib._bootstrap>:599(__init__)\n",
      "        4    0.000    0.000    0.000    0.000 _parser.py:953(fix_flags)\n",
      "        6    0.000    0.000    0.000    0.000 {built-in method sys._getframe}\n",
      "        1    0.000    0.000    0.000    0.000 __init__.py:806(Filterer)\n",
      "        1    0.000    0.000    0.000    0.000 string.py:188(Formatter)\n",
      "        1    0.000    0.000    0.000    0.000 <frozen importlib._bootstrap>:1390(_handle_fromlist)\n",
      "        6    0.000    0.000    0.000    0.000 {method 'remove' of 'list' objects}\n",
      "        5    0.000    0.000    0.000    0.000 {built-in method sys.intern}\n",
      "        4    0.000    0.000    0.000    0.000 _compiler.py:428(_get_iscased)\n",
      "        1    0.000    0.000    0.000    0.000 __init__.py:1861(RootLogger)\n",
      "        6    0.000    0.000    0.000    0.000 {method 'pop' of 'list' objects}\n",
      "        3    0.000    0.000    0.000    0.000 {built-in method _imp.find_frozen}\n",
      "        6    0.000    0.000    0.000    0.000 {method 'items' of 'dict' objects}\n",
      "        1    0.000    0.000    0.000    0.000 __init__.py:503(StringTemplateStyle)\n",
      "        1    0.000    0.000    0.000    0.000 {method 'translate' of 'str' objects}\n",
      "        6    0.000    0.000    0.000    0.000 <frozen importlib._bootstrap>:412(__init__)\n",
      "        2    0.000    0.000    0.000    0.000 __init__.py:443(__init__)\n",
      "        2    0.000    0.000    0.000    0.000 {method 'cast' of 'memoryview' objects}\n",
      "        3    0.000    0.000    0.000    0.000 __init__.py:811(__init__)\n",
      "        1    0.000    0.000    0.000    0.000 __init__.py:1202(FileHandler)\n",
      "        1    0.000    0.000    0.000    0.000 __init__.py:286(LogRecord)\n",
      "        5    0.000    0.000    0.000    0.000 __init__.py:1776(getEffectiveLevel)\n",
      "        1    0.000    0.000    0.000    0.000 __init__.py:1287(_StderrHandler)\n",
      "        2    0.000    0.000    0.000    0.000 {method 'setter' of 'property' objects}\n",
      "        5    0.000    0.000    0.000    0.000 __init__.py:429(<genexpr>)\n",
      "        1    0.000    0.000    0.000    0.000 __init__.py:1373(disable)\n",
      "        6    0.000    0.000    0.000    0.000 <frozen importlib._bootstrap>:158(__init__)\n",
      "        1    0.000    0.000    0.000    0.000 __init__.py:2285(NullHandler)\n",
      "        4    0.000    0.000    0.000    0.000 {method 'add' of 'set' objects}\n",
      "        4    0.000    0.000    0.000    0.000 {built-in method builtins.any}\n",
      "        4    0.000    0.000    0.000    0.000 {built-in method _sre.ascii_tolower}\n",
      "        6    0.000    0.000    0.000    0.000 <frozen importlib._bootstrap>:653(has_location)\n",
      "        1    0.000    0.000    0.000    0.000 _compiler.py:467(_get_charset_prefix)\n",
      "        5    0.000    0.000    0.000    0.000 __init__.py:1369(disable)\n",
      "        4    0.000    0.000    0.000    0.000 {built-in method _sre.ascii_iscased}\n",
      "        5    0.000    0.000    0.000    0.000 {method '__contains__' of 'frozenset' objects}\n",
      "        6    0.000    0.000    0.000    0.000 __init__.py:89(<lambda>)\n",
      "        1    0.000    0.000    0.000    0.000 __init__.py:769(Filter)\n",
      "        1    0.000    0.000    0.000    0.000 traceback.py:90(_Sentinel)\n",
      "        1    0.000    0.000    0.000    0.000 traceback.py:656(_ExceptionPrintContext)\n",
      "        3    0.000    0.000    0.000    0.000 <frozen importlib._bootstrap_external>:1153(__init__)\n",
      "        3    0.000    0.000    0.000    0.000 enum.py:1292(value)\n",
      "        1    0.000    0.000    0.000    0.000 __init__.py:1311(PlaceHolder)\n",
      "        2    0.000    0.000    0.000    0.000 enum.py:1411(<lambda>)\n",
      "        1    0.000    0.000    0.000    0.000 {method 'setdefault' of 'dict' objects}\n",
      "        1    0.000    0.000    0.000    0.000 {built-in method atexit.register}\n",
      "        1    0.000    0.000    0.000    0.000 {built-in method sys._getframemodulename}\n",
      "        3    0.000    0.000    0.000    0.000 <frozen importlib._bootstrap_external>:1178(get_filename)\n",
      "        3    0.000    0.000    0.000    0.000 <frozen importlib._bootstrap_external>:986(create_module)\n",
      "        2    0.000    0.000    0.000    0.000 __init__.py:254(_register_at_fork_reinit_lock)\n",
      "        1    0.000    0.000    0.000    0.000 <string>:1(<module>)\n",
      "        3    0.000    0.000    0.000    0.000 <frozen importlib._bootstrap>:1014(is_package)\n",
      "        1    0.000    0.000    0.000    0.000 __init__.py:1033(setFormatter)\n",
      "        1    0.000    0.000    0.000    0.000 {method 'values' of 'dict' objects}\n",
      "        1    0.000    0.000    0.000    0.000 {method 'clear' of 'dict' objects}\n",
      "        1    0.000    0.000    0.000    0.000 {method '__init_subclass__' of 'object' objects}\n",
      "\n",
      "\n"
     ]
    },
    {
     "name": "stderr",
     "output_type": "stream",
     "text": [
      "2024-12-06 15:01:14,337 - DEBUG - This is a debug message\n",
      "2024-12-06 15:01:14,337 - INFO - This is an info message\n",
      "2024-12-06 15:01:14,337 - WARNING - This is a warning message\n",
      "2024-12-06 15:01:14,337 - ERROR - This is an error message\n",
      "2024-12-06 15:01:14,342 - CRITICAL - This is a critical message\n",
      "2024-12-06 15:01:14,342 - ERROR - Error: division by zero\n"
     ]
    }
   ],
   "source": [
    "!python -m cProfile main.py"
   ]
  },
  {
   "cell_type": "code",
   "execution_count": 8,
   "metadata": {},
   "outputs": [
    {
     "name": "stdout",
     "output_type": "stream",
     "text": [
      "3628800\n"
     ]
    }
   ],
   "source": [
    "import math\n",
    "from collections import deque, Counter\n",
    "\n",
    "# Custom implementation\n",
    "def custom_sqrt(x):\n",
    "    return x ** 0.5\n",
    "\n",
    "# Optimized using math.sqrt()\n",
    "def optimized_sqrt(x):\n",
    "    return math.sqrt(x)\n",
    "\n",
    "\n",
    "# Custom factorial\n",
    "def custom_factorial(n):\n",
    "    result = 1 \n",
    "    for i in range(1, n+1):\n",
    "        result *= i\n",
    "    return result\n",
    "\n",
    "# Optimized using math.factorial()\n",
    "print(math.factorial(10))"
   ]
  },
  {
   "cell_type": "markdown",
   "metadata": {},
   "source": [
    "## Homework\n",
    "- Explore itertools for memory efficient iteration task"
   ]
  },
  {
   "cell_type": "markdown",
   "metadata": {},
   "source": [
    "### LRU (last recently used)'"
   ]
  },
  {
   "cell_type": "code",
   "execution_count": 9,
   "metadata": {},
   "outputs": [
    {
     "name": "stdout",
     "output_type": "stream",
     "text": [
      "354224848179261915075\n"
     ]
    }
   ],
   "source": [
    "from functools import lru_cache\n",
    "\n",
    "@lru_cache(maxsize = None) # Cache all results\n",
    "def fibonacci(n):\n",
    "    if n < 2:\n",
    "        return n\n",
    "    return fibonacci(n-1) + fibonacci(n-2)\n",
    "\n",
    "print(fibonacci(100))\n"
   ]
  },
  {
   "cell_type": "code",
   "execution_count": 10,
   "metadata": {},
   "outputs": [
    {
     "name": "stdout",
     "output_type": "stream",
     "text": [
      "Reference count for 'a': 2\n",
      "Reference count for 'a' after assigning b = a: 3\n",
      "Reference count for 'b': 3\n",
      "Reference count for 'a' after assigning c = b: 4\n",
      "Reference count for 'b' after assigning c = b: 4\n",
      "Reference count for 'c': 4\n",
      "Reference count for 'a' after deleting 'b': 3\n",
      "Reference count for 'a' after deleting 'c': 2\n"
     ]
    }
   ],
   "source": [
    "import sys\n",
    "\n",
    "def reference_count_example():\n",
    "    a = []  \n",
    "    print(f\"Reference count for 'a': {sys.getrefcount(a)}\")\n",
    "\n",
    "    b = a  # 'b' references the same list object\n",
    "    print(f\"Reference count for 'a' after assigning b = a: {sys.getrefcount(a)}\")\n",
    "    print(f\"Reference count for 'b': {sys.getrefcount(b)}\")\n",
    "\n",
    "    c = b  # 'c' references the same list object\n",
    "    print(f\"Reference count for 'a' after assigning c = b: {sys.getrefcount(a)}\")\n",
    "    print(f\"Reference count for 'b' after assigning c = b: {sys.getrefcount(b)}\")\n",
    "    print(f\"Reference count for 'c': {sys.getrefcount(c)}\")\n",
    "\n",
    "    # Now, deleting the references\n",
    "    del b\n",
    "    print(f\"Reference count for 'a' after deleting 'b': {sys.getrefcount(a)}\")\n",
    "\n",
    "    del c\n",
    "    print(f\"Reference count for 'a' after deleting 'c': {sys.getrefcount(a)}\")\n",
    "\n",
    "reference_count_example()"
   ]
  },
  {
   "cell_type": "markdown",
   "metadata": {},
   "source": [
    "# Global Interpreter Lock (GIL)\n",
    "## GIL limits multi-threaded performance in CPU-bound tasks"
   ]
  },
  {
   "cell_type": "code",
   "execution_count": 11,
   "metadata": {},
   "outputs": [
    {
     "name": "stdout",
     "output_type": "stream",
     "text": [
      "Running with Threads:\n",
      "Sum of squares up to 10000000: 333333283333335000000\n",
      "Sum of squares up to 10000000: 333333283333335000000\n",
      "Time taken (threads): 5.10 seconds\n",
      "\n",
      "Running Single-Threaded:\n",
      "Sum of squares up to 10000000: 333333283333335000000\n",
      "Sum of squares up to 10000000: 333333283333335000000\n",
      "Time taken (single thread): 4.44 seconds\n"
     ]
    }
   ],
   "source": [
    "import threading\n",
    "import time\n",
    "\n",
    "def sum_of_squares(n):\n",
    "    total = sum(i * i for i in range(n))\n",
    "    print(f\"Sum of squares up to {n}: {total}\")\n",
    "\n",
    "# Measure time for multi-threaded execution\n",
    "def threaded_execution():\n",
    "    threads = []\n",
    "    start_time = time.time()\n",
    "    # Create threads\n",
    "    for _ in range(2):\n",
    "        t = threading.Thread(target=sum_of_squares, args=(10_000_000,))\n",
    "        threads.append(t)\n",
    "        t.start()\n",
    "    \n",
    "    # Wait for all threads to complete\n",
    "    for t in threads:\n",
    "        t.join()\n",
    "\n",
    "    print(f\"Time taken (threads): {time.time() - start_time:.2f} seconds\")\n",
    "\n",
    "# Measure time for single-threaded execution\n",
    "def single_threaded_execution():\n",
    "    start_time = time.time()\n",
    "    sum_of_squares(10_000_000)\n",
    "    sum_of_squares(10_000_000)\n",
    "    print(f\"Time taken (single thread): {time.time() - start_time:.2f} seconds\")\n",
    "\n",
    "print(\"Running with Threads:\")\n",
    "threaded_execution()\n",
    "print(\"\\nRunning Single-Threaded:\")\n",
    "single_threaded_execution()"
   ]
  }
 ],
 "metadata": {
  "kernelspec": {
   "display_name": "base",
   "language": "python",
   "name": "python3"
  },
  "language_info": {
   "codemirror_mode": {
    "name": "ipython",
    "version": 3
   },
   "file_extension": ".py",
   "mimetype": "text/x-python",
   "name": "python",
   "nbconvert_exporter": "python",
   "pygments_lexer": "ipython3",
   "version": "3.12.4"
  }
 },
 "nbformat": 4,
 "nbformat_minor": 2
}
