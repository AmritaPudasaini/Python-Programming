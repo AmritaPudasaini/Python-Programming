{
 "cells": [
  {
   "cell_type": "markdown",
   "metadata": {},
   "source": [
    "# Reshaping array using reshape method"
   ]
  },
  {
   "cell_type": "code",
   "execution_count": 1,
   "metadata": {},
   "outputs": [
    {
     "name": "stdout",
     "output_type": "stream",
     "text": [
      "Original array:\n",
      " [1 2 3 4 5 6]\n",
      "-------------\n",
      "Reshaped array:\n",
      " [[1 2 3]\n",
      " [4 5 6]]\n"
     ]
    }
   ],
   "source": [
    "# Reshaping 3x4 array to 2x2x3 array\n",
    "import numpy as np\n",
    "arr = np.array([1,2,3,4,5,6])\n",
    "\n",
    "newarr = arr.reshape(2,3)\n",
    "print(\"Original array:\\n\", arr)\n",
    "print(\"-------------\")\n",
    "print(\"Reshaped array:\\n\", newarr)"
   ]
  },
  {
   "cell_type": "markdown",
   "metadata": {},
   "source": [
    "# Flatten Array\n",
    "- Flatten method flattens array to one dimension and returns copy of collapsed array."
   ]
  },
  {
   "cell_type": "code",
   "execution_count": null,
   "metadata": {},
   "outputs": [
    {
     "name": "stdout",
     "output_type": "stream",
     "text": [
      "Original array:\n",
      " [[ 4  2  3]\n",
      " [ 4  5 61]]\n",
      "Fattened array:\n",
      " [ 4  2  3  4  5 61]\n"
     ]
    }
   ],
   "source": [
    "# Flatten array\n",
    "arr = np.array([[4, 2, 3], [4, 5, 61]])\n",
    "flat_arr = arr.flatten()\n",
    "print (\"Original array:\\n\", arr)\n",
    "print (\"Fattened array:\\n\", flat_arr)"
   ]
  },
  {
   "cell_type": "markdown",
   "metadata": {},
   "source": [
    "# NumPy Array Indexing and Slicing\n",
    "## Basic Indexing\n",
    "\n",
    "### Indexing allows usto access the individual elements or subsets of data."
   ]
  },
  {
   "cell_type": "code",
   "execution_count": null,
   "metadata": {},
   "outputs": [
    {
     "name": "stdout",
     "output_type": "stream",
     "text": [
      "(6,)\n",
      "1\n",
      "6\n",
      "4\n",
      "print dimension of array\n",
      "2\n",
      "print shape of the array\n",
      "(3, 3)\n",
      "print total number of items\n",
      "9\n",
      "first row first element\n",
      "1\n",
      "last row last element\n",
      "8\n",
      "second row third element\n",
      "6\n",
      "third row second element\n",
      "7\n"
     ]
    }
   ],
   "source": [
    "# 1D Array Indexing\n",
    "arr = np.array([1,2,3,4,5,6])\n",
    "print(arr.shape)\n",
    "print(arr[0]) #first element\n",
    "print(arr[-1]) #last element\n",
    "print(arr[3]) #fourth element\n",
    "\n",
    "#2D array\n",
    "num_2d_array = np.array([\n",
    "    [1,2,3],\n",
    "    [4,5,6],\n",
    "    [6,7,8]\n",
    "])\n",
    "print(\"print dimension of array\")\n",
    "print(num_2d_array.ndim) # print dimension of array\n",
    "print(\"print shape of the array\")\n",
    "print(num_2d_array.shape) #print shape of the array\n",
    "print(\"print total number of items\")\n",
    "print(num_2d_array.size) # print total number of items\n",
    "\n",
    "print(\"first row first element\")\n",
    "print(num_2d_array[0,0]) #first row first element = >1\n",
    "print(\"last row last element\")\n",
    "print(num_2d_array[-1,-1]) #last row last element = >8\n",
    "print(\"second row third element\")\n",
    "print(num_2d_array[1,2]) #second row third element = >6\n",
    "print(\"third row second element\")\n",
    "print(num_2d_array[2,1])\n"
   ]
  },
  {
   "cell_type": "markdown",
   "metadata": {},
   "source": [
    "# Slicing in NumPy\n",
    "### In NumPy we can access the portion of an array using the slice operator ```:```\n",
    "# 1-D Array Slicing\n",
    "### Syntax: ```array[start:stop:step]```\n",
    "- ```start```: Index of the first element to be included in slide\n",
    "- ```stop```: index of the last element (exclusive)\n",
    "- ```step```: step size between each element in the slice\n"
   ]
  },
  {
   "cell_type": "code",
   "execution_count": 11,
   "metadata": {},
   "outputs": [
    {
     "name": "stdout",
     "output_type": "stream",
     "text": [
      "[3 4 5 6]\n",
      "[1 3 5 7]\n",
      "[ 5  6  7  8 10 11]\n",
      "[1 2 3 4 5]\n",
      "[11  8  6  4  2]\n",
      "[100 100 100 100 100   6   7   8  10  11]\n"
     ]
    }
   ],
   "source": [
    "arr = np.array([1,2,3,4,5,6,7,8,10,11])\n",
    "\n",
    "#slice array from index 2-6 (6-exclusive)\n",
    "print(arr[2:6]) # [3,4,5,6] \n",
    "\n",
    "# slice array from 0 to 8 with a step size of 2\n",
    "print(arr[0:8:2]) # [1,3,5,7]\n",
    "\n",
    "# slice array from index 4 to last element\n",
    "print(arr[4:])\n",
    "\n",
    "# slice array from start to 5th index (5th index excluded)\n",
    "print(arr[:5]) \n",
    "\n",
    "# negative index\n",
    "print(arr[-1::-2]) # slice every second element form end to start\n",
    "\n",
    "# we can also modify the array with slicing\n",
    "\n",
    "arr[:5] = 100 # replace items from 0-5 with 100\n",
    "print(arr)"
   ]
  },
  {
   "cell_type": "markdown",
   "metadata": {},
   "source": [
    "# 2-D Array Slicing\n",
    "Syntax: ```array[row_start:row_stop:row_step, col_start:col_stop:col_step]```"
   ]
  },
  {
   "cell_type": "code",
   "execution_count": 15,
   "metadata": {},
   "outputs": [
    {
     "name": "stdout",
     "output_type": "stream",
     "text": [
      "2\n",
      "[[1 2 3]]\n",
      "[[1 2]\n",
      " [4 5]]\n"
     ]
    }
   ],
   "source": [
    "array_2d = np.array([\n",
    "    [1,2,3],\n",
    "    [4,5,6],\n",
    "    [7,8,9]\n",
    "])\n",
    "print(array_2d.ndim)\n",
    "\n",
    "# slice first row\n",
    "print(array_2d[0:1])\n",
    "\n",
    "# slice array from  first two rows and first two columns\n",
    "\n",
    "print(array_2d[0:2,0:2])"
   ]
  },
  {
   "cell_type": "markdown",
   "metadata": {},
   "source": [
    "# Boolean Array Indexing\n",
    "Boolean array indexing allows us to select elements from an array based on conditions. This technique is helpful when we need to filter elements based on certain condition."
   ]
  },
  {
   "cell_type": "code",
   "execution_count": 16,
   "metadata": {},
   "outputs": [
    {
     "name": "stdout",
     "output_type": "stream",
     "text": [
      "[20 25 30]\n",
      "[10 20 30]\n",
      "[ 5 10 15 99 99 99]\n",
      "[5 6 7 8 9]\n",
      "[[1 2 3]\n",
      " [4 0 0]\n",
      " [0 0 0]]\n"
     ]
    }
   ],
   "source": [
    "# Creating an array\n",
    "arr = np.array([5,10,15,20,25,30])\n",
    "\n",
    "#Select elements greater than 15\n",
    "print(arr[arr > 15])  # Output: [20 25 30]\n",
    "\n",
    "# Select elements that are even\n",
    "print(arr[arr % 2 == 0])  # Output: [10 20 30]\n",
    "\n",
    "# Modifying elements that satisfy a condition\n",
    "arr[arr > 15] = 99\n",
    "print(arr)  # Output: [ 5 10 15 99 99 99]\n",
    "\n",
    "#Boolean indexing on a 2-dimensiopnal array\n",
    "arr2d = np.array([[1, 2, 3], [4, 5, 6], [7, 8, 9]])\n",
    "\n",
    "# Extract elements greater than 4\n",
    "print(arr2d[arr2d > 4])\n",
    "\n",
    "# Setting elements greater than 4 to zero\n",
    "arr2d[arr2d > 4] = 0\n",
    "print(arr2d)"
   ]
  },
  {
   "cell_type": "markdown",
   "metadata": {},
   "source": [
    "# NumPy Operation\n",
    "- NumPy Arithmetic Array Operations\n",
    "- NumPy Array Functions\n",
    "- NumPy Comparison/Logical Operations\n",
    "- NumPy Math Fuctions\n",
    "- NumPy Constants\n",
    "- NumPy Statistical Functions\n"
   ]
  },
  {
   "cell_type": "markdown",
   "metadata": {},
   "source": [
    "# NumPy Arithmetic Operations\n",
    "- add()\n",
    "- subtract()\n",
    "- multiply()\n",
    "- divide()\n",
    "- power()\n",
    "- mod()"
   ]
  },
  {
   "cell_type": "code",
   "execution_count": 27,
   "metadata": {},
   "outputs": [
    {
     "name": "stdout",
     "output_type": "stream",
     "text": [
      "[ 3  7 11 15]\n",
      "[-1 -1 -1 -1]\n",
      "[ 2 12 30 56]\n",
      "[0.5        0.75       0.83333333 0.875     ]\n",
      "[  1  27 125 343]\n",
      "[1 3 5 7]\n"
     ]
    }
   ],
   "source": [
    "first_array = np.array([1, 3, 5, 7])\n",
    "second_array = np.array([2, 4, 6, 8])\n",
    "\n",
    "#add\n",
    "addition = first_array + second_array\n",
    "print(addition) \n",
    "\n",
    "#subtract\n",
    "subtraction = first_array - second_array\n",
    "print(subtraction)\n",
    "\n",
    "#multiply\n",
    "multiply = first_array * second_array\n",
    "print(multiply)\n",
    "\n",
    "#divide\n",
    "divide = np.divide(first_array, second_array)\n",
    "print(divide)\n",
    "\n",
    "#power\n",
    "power = np.power(first_array, 3)\n",
    "print(power)\n",
    "\n",
    "#mod\n",
    "mod = np.mod(first_array, second_array)\n",
    "print(mod)"
   ]
  },
  {
   "cell_type": "markdown",
   "metadata": {},
   "source": [
    "# NumPy Broadcasting\n",
    "- Broadcasting in NumPy alllows it to perform arithmetic operations on arrays with different shapes."
   ]
  },
  {
   "cell_type": "code",
   "execution_count": 28,
   "metadata": {},
   "outputs": [
    {
     "name": "stdout",
     "output_type": "stream",
     "text": [
      "[ 4  8 12 16]\n"
     ]
    }
   ],
   "source": [
    "arr1 = np.array([1,2,3,4])\n",
    "arr2 = np.array(4)\n",
    "result = arr1 * arr2\n",
    "print(result)"
   ]
  },
  {
   "cell_type": "markdown",
   "metadata": {},
   "source": [
    "# NumPy Array Functions\n",
    "NumPy has various built-in functions for various purposes\n",
    "-  Array Creation Functions: ```np.array(), np.zeros(), np.ones(), np.empty()``` etc\n",
    "- Manipulation Functions: ```np.reshape(), np.transpose()```\n",
    "- Mathematical Functions: ```np.add(), np.subtract(), np.sqrt(), np.power()```\n",
    "- Statistical Functions: ```np.median(), np.mean(), np.std(), np.var()```"
   ]
  },
  {
   "cell_type": "code",
   "execution_count": 36,
   "metadata": {},
   "outputs": [
    {
     "name": "stdout",
     "output_type": "stream",
     "text": [
      "12.0\n",
      "3.5\n",
      "20.149441679609886\n",
      "406.0\n"
     ]
    }
   ],
   "source": [
    "data = np.array([1,3,4,57,4,3])\n",
    "\n",
    "mean = np.mean(data)\n",
    "print(mean)\n",
    "\n",
    "median = np.median(data)\n",
    "print(median)\n",
    "\n",
    "std = np.std(data)\n",
    "print(std)\n",
    "\n",
    "var = np.var(data)\n",
    "print(var)\n"
   ]
  },
  {
   "cell_type": "markdown",
   "metadata": {},
   "source": [
    "# Array Manipulation Function"
   ]
  },
  {
   "cell_type": "code",
   "execution_count": null,
   "metadata": {},
   "outputs": [
    {
     "name": "stdout",
     "output_type": "stream",
     "text": [
      "[[1 2 3]\n",
      " [4 5 6]\n",
      " [7 8 9]]\n",
      "[[1 4 7]\n",
      " [2 5 8]\n",
      " [3 6 9]]\n"
     ]
    }
   ],
   "source": [
    "numbers = np.array([1,2,3,4,5,6,7,8,9])\n",
    "\n",
    "# reshape the 1D array into a 3D array\n",
    "reshaped_array = np.reshape(numbers, (3, 3)) # 3 x 3 = 9\n",
    "print(reshaped_array)  \n",
    "\n",
    "# transpose the 3D array\n",
    "transposed_array = np.transpose(reshaped_array)\n",
    "print(transposed_array)"
   ]
  },
  {
   "cell_type": "markdown",
   "metadata": {},
   "source": [
    "# NumPy Matrix Operations\n",
    "- Matrix Multiplication ```np.matmul()```\n",
    "- Dot Product ```np.dot()```\n",
    "- Cross Product ```np.cross()```\n",
    "- Transpose ```np.transpose```\n",
    "- Inverse ```np.linalg.inverse()```\n",
    "- Determinant ```linalg.det() linalg=>Linear Algebra```\n",
    "- Norm ```np.linalg.norm()```\n",
    "- Trace ```np.linalg.trace()```"
   ]
  },
  {
   "cell_type": "code",
   "execution_count": 42,
   "metadata": {},
   "outputs": [
    {
     "name": "stdout",
     "output_type": "stream",
     "text": [
      "[[ 43  25]\n",
      " [100  67]\n",
      " [157 109]]\n"
     ]
    }
   ],
   "source": [
    "matrix_one = [\n",
    "                [1,2,3],\n",
    "                [4,5,6],\n",
    "                [7,8,9]\n",
    "            ]\n",
    "matrix_two = [\n",
    "                [4,5],\n",
    "                [6,7],\n",
    "                [9,2]\n",
    "            ]\n",
    "\n",
    "multiply = np.matmul(matrix_one, matrix_two)\n",
    "print(multiply)"
   ]
  }
 ],
 "metadata": {
  "kernelspec": {
   "display_name": "base",
   "language": "python",
   "name": "python3"
  },
  "language_info": {
   "codemirror_mode": {
    "name": "ipython",
    "version": 3
   },
   "file_extension": ".py",
   "mimetype": "text/x-python",
   "name": "python",
   "nbconvert_exporter": "python",
   "pygments_lexer": "ipython3",
   "version": "3.12.4"
  }
 },
 "nbformat": 4,
 "nbformat_minor": 2
}
