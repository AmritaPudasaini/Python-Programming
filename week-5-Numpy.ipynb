{
 "cells": [
  {
   "cell_type": "markdown",
   "metadata": {},
   "source": [
    "# Reshaping array using reshape method"
   ]
  },
  {
   "cell_type": "code",
   "execution_count": 24,
   "metadata": {},
   "outputs": [
    {
     "name": "stdout",
     "output_type": "stream",
     "text": [
      "Original array:\n",
      " [1 2 3 4 5 6]\n",
      "-------------\n",
      "Reshaped array:\n",
      " [[1 2 3]\n",
      " [4 5 6]]\n"
     ]
    }
   ],
   "source": [
    "# Reshaping 3x4 array to 2x2x3 array\n",
    "import numpy as np\n",
    "arr = np.array([1,2,3,4,5,6])\n",
    "\n",
    "newarr = arr.reshape(2,3)\n",
    "print(\"Original array:\\n\", arr)\n",
    "print(\"-------------\")\n",
    "print(\"Reshaped array:\\n\", newarr)"
   ]
  },
  {
   "cell_type": "markdown",
   "metadata": {},
   "source": [
    "# Flatten Array\n",
    "- Flatten method flattens array to one dimension and returns copy of collapsed array."
   ]
  },
  {
   "cell_type": "code",
   "execution_count": 25,
   "metadata": {},
   "outputs": [
    {
     "name": "stdout",
     "output_type": "stream",
     "text": [
      "Original array:\n",
      " [[ 4  2  3]\n",
      " [ 4  5 61]]\n",
      "Fattened array:\n",
      " [ 4  2  3  4  5 61]\n"
     ]
    }
   ],
   "source": [
    "# Flatten array\n",
    "arr = np.array([[4, 2, 3], [4, 5, 61]])\n",
    "flat_arr = arr.flatten()\n",
    "print (\"Original array:\\n\", arr)\n",
    "print (\"Fattened array:\\n\", flat_arr)"
   ]
  },
  {
   "cell_type": "markdown",
   "metadata": {},
   "source": [
    "# NumPy Array Indexing and Slicing\n",
    "## Basic Indexing\n",
    "\n",
    "### Indexing allows usto access the individual elements or subsets of data."
   ]
  },
  {
   "cell_type": "code",
   "execution_count": 26,
   "metadata": {},
   "outputs": [
    {
     "name": "stdout",
     "output_type": "stream",
     "text": [
      "(6,)\n",
      "1\n",
      "6\n",
      "4\n",
      "print dimension of array\n",
      "2\n",
      "print shape of the array\n",
      "(3, 3)\n",
      "print total number of items\n",
      "9\n",
      "first row first element\n",
      "1\n",
      "last row last element\n",
      "8\n",
      "second row third element\n",
      "6\n",
      "third row second element\n",
      "7\n"
     ]
    }
   ],
   "source": [
    "# 1D Array Indexing\n",
    "arr = np.array([1,2,3,4,5,6])\n",
    "print(arr.shape)\n",
    "print(arr[0]) #first element\n",
    "print(arr[-1]) #last element\n",
    "print(arr[3]) #fourth element\n",
    "\n",
    "#2D array\n",
    "num_2d_array = np.array([\n",
    "    [1,2,3],\n",
    "    [4,5,6],\n",
    "    [6,7,8]\n",
    "])\n",
    "print(\"print dimension of array\")\n",
    "print(num_2d_array.ndim) # print dimension of array\n",
    "print(\"print shape of the array\")\n",
    "print(num_2d_array.shape) #print shape of the array\n",
    "print(\"print total number of items\")\n",
    "print(num_2d_array.size) # print total number of items\n",
    "\n",
    "print(\"first row first element\")\n",
    "print(num_2d_array[0,0]) #first row first element = >1\n",
    "print(\"last row last element\")\n",
    "print(num_2d_array[-1,-1]) #last row last element = >8\n",
    "print(\"second row third element\")\n",
    "print(num_2d_array[1,2]) #second row third element = >6\n",
    "print(\"third row second element\")\n",
    "print(num_2d_array[2,1])\n"
   ]
  },
  {
   "cell_type": "markdown",
   "metadata": {},
   "source": [
    "# Slicing in NumPy\n",
    "### In NumPy we can access the portion of an array using the slice operator ```:```\n",
    "# 1-D Array Slicing\n",
    "### Syntax: ```array[start:stop:step]```\n",
    "- ```start```: Index of the first element to be included in slide\n",
    "- ```stop```: index of the last element (exclusive)\n",
    "- ```step```: step size between each element in the slice\n"
   ]
  },
  {
   "cell_type": "code",
   "execution_count": 27,
   "metadata": {},
   "outputs": [
    {
     "name": "stdout",
     "output_type": "stream",
     "text": [
      "[3 4 5 6]\n",
      "[1 3 5 7]\n",
      "[ 5  6  7  8 10 11]\n",
      "[1 2 3 4 5]\n",
      "[11  8  6  4  2]\n",
      "[100 100 100 100 100   6   7   8  10  11]\n"
     ]
    }
   ],
   "source": [
    "arr = np.array([1,2,3,4,5,6,7,8,10,11])\n",
    "\n",
    "#slice array from index 2-6 (6-exclusive)\n",
    "print(arr[2:6]) # [3,4,5,6] \n",
    "\n",
    "# slice array from 0 to 8 with a step size of 2\n",
    "print(arr[0:8:2]) # [1,3,5,7]\n",
    "\n",
    "# slice array from index 4 to last element\n",
    "print(arr[4:])\n",
    "\n",
    "# slice array from start to 5th index (5th index excluded)\n",
    "print(arr[:5]) \n",
    "\n",
    "# negative index\n",
    "print(arr[-1::-2]) # slice every second element form end to start\n",
    "\n",
    "# we can also modify the array with slicing\n",
    "\n",
    "arr[:5] = 100 # replace items from 0-5 with 100\n",
    "print(arr)"
   ]
  },
  {
   "cell_type": "markdown",
   "metadata": {},
   "source": [
    "# 2-D Array Slicing\n",
    "Syntax: ```array[row_start:row_stop:row_step, col_start:col_stop:col_step]```"
   ]
  },
  {
   "cell_type": "code",
   "execution_count": 28,
   "metadata": {},
   "outputs": [
    {
     "name": "stdout",
     "output_type": "stream",
     "text": [
      "2\n",
      "[[1 2 3]]\n",
      "[[1 2]\n",
      " [4 5]]\n"
     ]
    }
   ],
   "source": [
    "array_2d = np.array([\n",
    "    [1,2,3],\n",
    "    [4,5,6],\n",
    "    [7,8,9]\n",
    "])\n",
    "print(array_2d.ndim)\n",
    "\n",
    "# slice first row\n",
    "print(array_2d[0:1])\n",
    "\n",
    "# slice array from  first two rows and first two columns\n",
    "\n",
    "print(array_2d[0:2,0:2])"
   ]
  },
  {
   "cell_type": "markdown",
   "metadata": {},
   "source": [
    "# Boolean Array Indexing\n",
    "Boolean array indexing allows us to select elements from an array based on conditions. This technique is helpful when we need to filter elements based on certain condition."
   ]
  },
  {
   "cell_type": "code",
   "execution_count": 29,
   "metadata": {},
   "outputs": [
    {
     "name": "stdout",
     "output_type": "stream",
     "text": [
      "[20 25 30]\n",
      "[10 20 30]\n",
      "[ 5 10 15 99 99 99]\n",
      "[5 6 7 8 9]\n",
      "[[1 2 3]\n",
      " [4 0 0]\n",
      " [0 0 0]]\n"
     ]
    }
   ],
   "source": [
    "# Creating an array\n",
    "arr = np.array([5,10,15,20,25,30])\n",
    "\n",
    "#Select elements greater than 15\n",
    "print(arr[arr > 15])  # Output: [20 25 30]\n",
    "\n",
    "# Select elements that are even\n",
    "print(arr[arr % 2 == 0])  # Output: [10 20 30]\n",
    "\n",
    "# Modifying elements that satisfy a condition\n",
    "arr[arr > 15] = 99\n",
    "print(arr)  # Output: [ 5 10 15 99 99 99]\n",
    "\n",
    "#Boolean indexing on a 2-dimensiopnal array\n",
    "arr2d = np.array([[1, 2, 3], [4, 5, 6], [7, 8, 9]])\n",
    "\n",
    "# Extract elements greater than 4\n",
    "print(arr2d[arr2d > 4])\n",
    "\n",
    "# Setting elements greater than 4 to zero\n",
    "arr2d[arr2d > 4] = 0\n",
    "print(arr2d)"
   ]
  },
  {
   "cell_type": "markdown",
   "metadata": {},
   "source": [
    "# NumPy Operation\n",
    "- NumPy Arithmetic Array Operations\n",
    "- NumPy Array Functions\n",
    "- NumPy Comparison/Logical Operations\n",
    "- NumPy Math Fuctions\n",
    "- NumPy Constants\n",
    "- NumPy Statistical Functions\n"
   ]
  },
  {
   "cell_type": "markdown",
   "metadata": {},
   "source": [
    "# NumPy Arithmetic Operations\n",
    "- add()\n",
    "- subtract()\n",
    "- multiply()\n",
    "- divide()\n",
    "- power()\n",
    "- mod()"
   ]
  },
  {
   "cell_type": "code",
   "execution_count": 30,
   "metadata": {},
   "outputs": [
    {
     "name": "stdout",
     "output_type": "stream",
     "text": [
      "[ 3  7 11 15]\n",
      "[-1 -1 -1 -1]\n",
      "[ 2 12 30 56]\n",
      "[0.5        0.75       0.83333333 0.875     ]\n",
      "[  1  27 125 343]\n",
      "[1 3 5 7]\n"
     ]
    }
   ],
   "source": [
    "first_array = np.array([1, 3, 5, 7])\n",
    "second_array = np.array([2, 4, 6, 8])\n",
    "\n",
    "#add\n",
    "addition = first_array + second_array\n",
    "print(addition) \n",
    "\n",
    "#subtract\n",
    "subtraction = first_array - second_array\n",
    "print(subtraction)\n",
    "\n",
    "#multiply\n",
    "multiply = first_array * second_array\n",
    "print(multiply)\n",
    "\n",
    "#divide\n",
    "divide = np.divide(first_array, second_array)\n",
    "print(divide)\n",
    "\n",
    "#power\n",
    "power = np.power(first_array, 3)\n",
    "print(power)\n",
    "\n",
    "#mod\n",
    "mod = np.mod(first_array, second_array)\n",
    "print(mod)"
   ]
  },
  {
   "cell_type": "markdown",
   "metadata": {},
   "source": [
    "# NumPy Broadcasting\n",
    "- Broadcasting in NumPy alllows it to perform arithmetic operations on arrays with different shapes."
   ]
  },
  {
   "cell_type": "code",
   "execution_count": 31,
   "metadata": {},
   "outputs": [
    {
     "name": "stdout",
     "output_type": "stream",
     "text": [
      "[ 4  8 12 16]\n"
     ]
    }
   ],
   "source": [
    "arr1 = np.array([1,2,3,4])\n",
    "arr2 = np.array(4)\n",
    "result = arr1 * arr2\n",
    "print(result)"
   ]
  },
  {
   "cell_type": "markdown",
   "metadata": {},
   "source": [
    "# NumPy Array Functions\n",
    "NumPy has various built-in functions for various purposes\n",
    "-  Array Creation Functions: ```np.array(), np.zeros(), np.ones(), np.empty()``` etc\n",
    "- Manipulation Functions: ```np.reshape(), np.transpose()```\n",
    "- Mathematical Functions: ```np.add(), np.subtract(), np.sqrt(), np.power()```\n",
    "- Statistical Functions: ```np.median(), np.mean(), np.std(), np.var()```"
   ]
  },
  {
   "cell_type": "code",
   "execution_count": 32,
   "metadata": {},
   "outputs": [
    {
     "name": "stdout",
     "output_type": "stream",
     "text": [
      "12.0\n",
      "3.5\n",
      "20.149441679609886\n",
      "406.0\n"
     ]
    }
   ],
   "source": [
    "data = np.array([1,3,4,57,4,3])\n",
    "\n",
    "mean = np.mean(data)\n",
    "print(mean)\n",
    "\n",
    "median = np.median(data)\n",
    "print(median)\n",
    "\n",
    "std = np.std(data)\n",
    "print(std)\n",
    "\n",
    "var = np.var(data)\n",
    "print(var)\n"
   ]
  },
  {
   "cell_type": "markdown",
   "metadata": {},
   "source": [
    "# Array Manipulation Function"
   ]
  },
  {
   "cell_type": "code",
   "execution_count": 33,
   "metadata": {},
   "outputs": [
    {
     "name": "stdout",
     "output_type": "stream",
     "text": [
      "[[1 2 3]\n",
      " [4 5 6]\n",
      " [7 8 9]]\n",
      "[[1 4 7]\n",
      " [2 5 8]\n",
      " [3 6 9]]\n"
     ]
    }
   ],
   "source": [
    "numbers = np.array([1,2,3,4,5,6,7,8,9])\n",
    "\n",
    "# reshape the 1D array into a 3D array\n",
    "reshaped_array = np.reshape(numbers, (3, 3)) # 3 x 3 = 9\n",
    "print(reshaped_array)  \n",
    "\n",
    "# transpose the 3D array\n",
    "transposed_array = np.transpose(reshaped_array)\n",
    "print(transposed_array)"
   ]
  },
  {
   "cell_type": "markdown",
   "metadata": {},
   "source": [
    "# NumPy Matrix Operations\n",
    "- Matrix Multiplication ```np.matmul()```\n",
    "- Dot Product ```np.dot()```\n",
    "- Cross Product ```np.cross()```\n",
    "- Transpose ```np.transpose```\n",
    "- Inverse ```np.linalg.inverse()```\n",
    "- Determinant ```linalg.det() linalg=>Linear Algebra```\n",
    "- Norm ```np.linalg.norm()```\n",
    "- Trace ```np.linalg.trace()```"
   ]
  },
  {
   "cell_type": "code",
   "execution_count": 34,
   "metadata": {},
   "outputs": [
    {
     "name": "stdout",
     "output_type": "stream",
     "text": [
      "[[ 43  25]\n",
      " [100  67]\n",
      " [157 109]]\n"
     ]
    },
    {
     "data": {
      "text/plain": [
       "32"
      ]
     },
     "execution_count": 34,
     "metadata": {},
     "output_type": "execute_result"
    }
   ],
   "source": [
    "matrix_one = [\n",
    "                [1,2,3],\n",
    "                [4,5,6],\n",
    "                [7,8,9]\n",
    "            ]\n",
    "matrix_two = [\n",
    "                [4,5],\n",
    "                [6,7],\n",
    "                [9,2]\n",
    "            ]\n",
    "\n",
    "multiply = np.matmul(matrix_one, matrix_two)\n",
    "print(multiply)\n",
    "\n",
    "\n",
    "vec1 = [1,2,3]\n",
    "vec2 = [4,5,6]\n",
    "dot_prod = np.dot(vec1, vec2)\n",
    "dot_prod\n"
   ]
  },
  {
   "cell_type": "markdown",
   "metadata": {},
   "source": [
    "# NumPy Mathematical and Statistical Functions"
   ]
  },
  {
   "cell_type": "code",
   "execution_count": 35,
   "metadata": {},
   "outputs": [
    {
     "name": "stdout",
     "output_type": "stream",
     "text": [
      "Mathematical Functions\n",
      "[1. 2. 3. 4.]\n",
      "Statistical Functions\n",
      "Mean: 61.3\n",
      "Median: 60.5\n",
      "Minimum marks: 10\n",
      "Maximum marks: 100\n"
     ]
    }
   ],
   "source": [
    "import numpy as np\n",
    "numbers = [1,2,3,4]\n",
    "print(\"Mathematical Functions\")\n",
    "sqrt_numbers = np.sqrt(numbers)\n",
    "square_numbers = np.square(sqrt_numbers)\n",
    "print(square_numbers)\n",
    "\n",
    "\n",
    "print(\"Statistical Functions\")\n",
    "\n",
    "students_marks = np.array([30,50,67,10,100,99,98,71,54,34])\n",
    "mean_marks = np.mean(students_marks)\n",
    "print(\"Mean:\",mean_marks)\n",
    "\n",
    "# compute the median of marks\n",
    "median_marks = np.median(students_marks)\n",
    "print(\"Median:\",median_marks)\n",
    "\n",
    "# find the minimum and maximum marks\n",
    "min_marks = np.min(students_marks)\n",
    "print(\"Minimum marks:\", min_marks)\n",
    "\n",
    "max_marks = np.max(students_marks)\n",
    "print(\"Maximum marks:\", max_marks)"
   ]
  },
  {
   "cell_type": "markdown",
   "metadata": {},
   "source": [
    "# Misc. Mathematical Functional\n",
    "- Trigonometric : sine(),cos(),tan(),cot(),sec(),cosec(), tangent()\n",
    "- Hyperbolic: sineh(),cosh(),tanh() etc\n",
    "- Logarithmic: log(), exp(), log10()\n",
    "- round(), floor(),ceil(), absolute(), "
   ]
  },
  {
   "cell_type": "code",
   "execution_count": 36,
   "metadata": {},
   "outputs": [
    {
     "data": {
      "image/png": "[encoded data removed]",
      "text/plain": [
       "<Figure size 1000x500 with 1 Axes>"
      ]
     },
     "metadata": {},
     "output_type": "display_data"
    }
   ],
   "source": [
    "import numpy as np\n",
    "import matplotlib.pyplot as plt\n",
    "\n",
    "# Generate x values\n",
    "x = np.linspace(-2*np.pi, 2 * np.pi, 100)\n",
    "\n",
    "# Calculate y values \n",
    "y_sin = np.sin(x)\n",
    "\n",
    "# Create the plot\n",
    "plt.figure(figsize=(10, 5))\n",
    "\n",
    "# Plot the sine curve and its opposite phase\n",
    "plt.plot(x, y_sin, label='Sine Curve', color='blue')\n",
    "\n",
    "plt.xlabel('x values')\n",
    "plt.ylabel('sin(x)')\n",
    "plt.title('Sine Curve and Opposite Phase Sine Curve')\n",
    "plt.legend()\n",
    "plt.grid(True, which='both', axis='both')\n",
    "plt.show()"
   ]
  },
  {
   "cell_type": "markdown",
   "metadata": {},
   "source": [
    "# Find out the similarity between following two sentences using cosine similarity\n",
    "- Sky is Blue\n",
    "- Ocean is Blue\n",
    "\n",
    "# Use TD-IDF Algorithm to Vectorize the sentences\n",
    "```TF (t) = total number of occurence of term t in sentence (doc)/ total length of words on sentence (doc)```\n",
    "\n",
    "```IDF(t) = log (total sentence (doc) length) / no of documents contains term t```\n",
    "\n",
    "```tf-idf score = tf *idf```"
   ]
  },
  {
   "cell_type": "code",
   "execution_count": 37,
   "metadata": {},
   "outputs": [
    {
     "data": {
      "text/plain": [
       "0.816496580927726"
      ]
     },
     "execution_count": 37,
     "metadata": {},
     "output_type": "execute_result"
    }
   ],
   "source": [
    "import numpy as np \n",
    "sentence1 = 'Sky is blue'\n",
    "sentence2 = 'Ocean is blue'\n",
    "sentence1 = sentence1.lower()\n",
    "sentence2 = sentence2.lower()\n",
    "\n",
    "def tf_idf_vectorizer(word,sentence):\n",
    "    tf = sentence.count(word) / len(sentence.split())\n",
    "    total_doc_size = 2\n",
    "    idf = np.log1p(total_doc_size / 1 if word in sentence1 else 0 + 1 if word in sentence2 else 0)\n",
    "    return tf*idf\n",
    "\n",
    "sentence1 = 'Sky is blue'\n",
    "sentence2 = 'Ocean is blue'\n",
    "\n",
    "vec1=[tf_idf_vectorizer(word,sentence1) for word in sentence1.split()]\n",
    "\n",
    "vec2=[tf_idf_vectorizer(word,sentence2) for word in sentence1.split()]\n",
    "\n",
    "\n",
    "similarity = np.dot(vec1,vec2)/(np.linalg.norm(vec1)*np.linalg.norm(vec2))\n",
    "similarity"
   ]
  },
  {
   "cell_type": "code",
   "execution_count": 38,
   "metadata": {},
   "outputs": [
    {
     "data": {
      "text/plain": [
       "0.808290376865476"
      ]
     },
     "execution_count": 38,
     "metadata": {},
     "output_type": "execute_result"
    }
   ],
   "source": [
    "vec1 = [1,2,3,4]\n",
    "vec2 = [1,8,3,4]\n",
    "\n",
    "similarity = np.dot(vec1, vec2) / ( np.linalg.norm(vec1) * np.linalg.norm(vec2))\n",
    "similarity"
   ]
  },
  {
   "cell_type": "markdown",
   "metadata": {},
   "source": [
    "## Machine Learning"
   ]
  },
  {
   "cell_type": "markdown",
   "metadata": {},
   "source": [
    "# Simple Linear Regression"
   ]
  },
  {
   "cell_type": "code",
   "execution_count": 40,
   "metadata": {},
   "outputs": [
    {
     "data": {
      "image/png": "[encoded data removed]",
      "text/plain": [
       "<Figure size 500x300 with 1 Axes>"
      ]
     },
     "metadata": {},
     "output_type": "display_data"
    }
   ],
   "source": [
    "import pandas as pd\n",
    "import numpy as np\n",
    "import matplotlib.pyplot as plt\n",
    "#From the given data, predict sales when price is 20, using simple linear regression\n",
    "sales_data = pd.DataFrame({\n",
    "    'price': [10,12,13,12,16,15],\n",
    "    'sales':[40,38,43,45,37,43]})\n",
    "\n",
    "plt.figure(figsize=(5,3))\n",
    "plt.scatter(\n",
    "    sales_data['price'],\n",
    "    sales_data['sales'],\n",
    "    color='purple',\n",
    "    edgecolor='black',\n",
    ")\n",
    "\n",
    "#Fit a linear regression model to the data\n",
    "x = sales_data['price']\n",
    "y = sales_data['sales']\n",
    "m, c = np.polyfit(x,y,1)\n",
    "\n",
    "\n",
    "#Plot the trend line\n",
    "plt.plot(x,\n",
    "         m * x + c, color='red',\n",
    "            linewidth = 1,\n",
    ")\n",
    "\n",
    "plt.annotate( 'y = {:2f}x + {:.2f}'.format(m, c), xy=(0.1, 0.9),\n",
    "             xycoords='axes fraction',\n",
    "             fontsize=12, color='red')\n",
    "\n",
    "plt.xticks(rotation=45)\n",
    "plt.title('Proce vs Sales')\n",
    "plt.xlabel('Price')\n",
    "plt.ylabel('Sales')\n",
    "plt.grid(True)\n",
    "plt.show()\n"
   ]
  },
  {
   "cell_type": "markdown",
   "metadata": {},
   "source": [
    "Applying the statistical approach to calculate coefficients 'a' (slope) and 'b' (intercept)"
   ]
  },
  {
   "cell_type": "code",
   "execution_count": 43,
   "metadata": {},
   "outputs": [
    {
     "name": "stdout",
     "output_type": "stream",
     "text": [
      "-0.25 44.25\n"
     ]
    },
    {
     "data": {
      "text/plain": [
       "39.25"
      ]
     },
     "execution_count": 43,
     "metadata": {},
     "output_type": "execute_result"
    }
   ],
   "source": [
    "X = sales_data['price']\n",
    "Y = sales_data['sales']\n",
    "n = len(X)\n",
    "\n",
    "sum_X = np.sum(X)\n",
    "sum_Y = np.sum(Y)\n",
    "sum_XY = np.sum(X * Y)\n",
    "sum_X2 = np.sum(X**2)\n",
    "m = (n * sum_XY - (sum_X * sum_Y) ) / ( (n * sum_X2) - (sum_X**2) )\n",
    "c = (sum_Y - ( m * sum_X)) / n\n",
    "\n",
    "print (m,c)\n",
    "stat = m * 20 + c\n",
    "stat"
   ]
  }
 ],
 "metadata": {
  "kernelspec": {
   "display_name": "base",
   "language": "python",
   "name": "python3"
  },
  "language_info": {
   "codemirror_mode": {
    "name": "ipython",
    "version": 3
   },
   "file_extension": ".py",
   "mimetype": "text/x-python",
   "name": "python",
   "nbconvert_exporter": "python",
   "pygments_lexer": "ipython3",
   "version": "3.12.4"
  }
 },
 "nbformat": 4,
 "nbformat_minor": 2
}
